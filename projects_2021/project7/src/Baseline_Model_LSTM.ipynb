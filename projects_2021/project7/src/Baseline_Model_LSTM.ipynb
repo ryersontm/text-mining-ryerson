{
 "cells": [
  {
   "cell_type": "markdown",
   "metadata": {},
   "source": [
    "## LSTM\n",
    "\n",
    "The following notebook contains the implementation for the LSTM network. The code and experiments ran on the selected datasets is shown in the notebook. "
   ]
  },
  {
   "cell_type": "code",
   "execution_count": 1,
   "metadata": {},
   "outputs": [
    {
     "name": "stderr",
     "output_type": "stream",
     "text": [
      "[nltk_data] Downloading package punkt to C:\\Users\\Meghna\n",
      "[nltk_data]     Patel\\AppData\\Roaming\\nltk_data...\n",
      "[nltk_data]   Package punkt is already up-to-date!\n"
     ]
    },
    {
     "data": {
      "text/plain": [
       "True"
      ]
     },
     "execution_count": 1,
     "metadata": {},
     "output_type": "execute_result"
    }
   ],
   "source": [
    "import pandas as pd\n",
    "import numpy as np\n",
    "from keras.models import Model, Input\n",
    "from keras.layers import LSTM, Embedding, Dense, TimeDistributed, Dropout, Bidirectional\n",
    "from keras.layers.merge import add\n",
    "from nltk.tokenize import word_tokenize\n",
    "from random import shuffle\n",
    "%matplotlib inline\n",
    "import matplotlib.pyplot as plt\n",
    "from numpy import zeros\n",
    "from keras.models import Sequential\n",
    "from keras.preprocessing.sequence import pad_sequences\n",
    "from keras.utils import to_categorical\n",
    "from sklearn.model_selection import KFold\n",
    "import nltk\n",
    "nltk.download('punkt')"
   ]
  },
  {
   "cell_type": "markdown",
   "metadata": {},
   "source": [
    "The prepare_data function takes the name of the desired input file to be processed, and returns the processed data (X), the processed labels (y), the word-index pairs (word2idx), the length of the longest sentence (maxLen) and total number of unique labels (totalTags). The purpose of this function is to read the input file, and process it for input into the neural network. "
   ]
  },
  {
   "cell_type": "code",
   "execution_count": 7,
   "metadata": {},
   "outputs": [],
   "source": [
    "def prepare_data(input_data):\n",
    "    # read the input data\n",
    "    if (input_data == 'subjectivity'):\n",
    "        data = pd.read_csv(\"C:/Users/Meghna Patel/Documents/GitHub/DS8008_NLP_PROJECT_GNN/data/subjectivity.txt\", delimiter = \"\\t\", \n",
    "                           header = None, names=['tag','sentence'])\n",
    "    \n",
    "    elif (input_data == 'mpqa'):\n",
    "        data = pd.read_csv(\"C:/Users/Meghna Patel/Documents/GitHub/DS8008_NLP_PROJECT_GNN/data/mpqa.txt\", delimiter = \"\\t\", \n",
    "                           header = None, encoding='latin-1',names=['tag','sentence'])\n",
    "        \n",
    "    elif (input_data == 'bbc'):\n",
    "        data = pd.read_csv(\"C:/Users/Meghna Patel/Documents/GitHub/DS8008_NLP_PROJECT_GNN/data/bbc_text.txt\", delimiter = \"\\t\", \n",
    "                           header = None, names=['tag','sentence'])\n",
    "    \n",
    "    elif (input_data == 'rt-polarity'):\n",
    "        data = pd.read_csv(\"C:/Users/Meghna Patel/Documents/GitHub/DS8008_NLP_PROJECT_GNN/data/rt-polarity.txt\", delimiter = \"\\t\", \n",
    "                           header = None, encoding='latin-1',names=['tag','sentence'])\n",
    "        \n",
    "    df = pd.DataFrame(columns = ['Sentence#', 'Word', 'Tag']) # define an empty dataframe \n",
    "    \n",
    "    # tokenize word and pair with its corresonding tag, store this information in a df \n",
    "    for id, sent in data.iterrows():\n",
    "        tokens=[word.lower() for word in nltk.word_tokenize(sent[1])]\n",
    "        for tk in tokens:\n",
    "            sid = 'Sentence:'+str(id) \n",
    "            new_row = {'Sentence#': sid, 'Word': tk, 'Tag': sent[0]}\n",
    "            df = df.append(new_row, ignore_index=True)\n",
    "    \n",
    "    # build a word to index and tag to index list \n",
    "    words = list(set(df['Word'].values))\n",
    "    words.append('UNK')\n",
    "    totalWords = len(words)\n",
    "\n",
    "    tags = list(set(df[\"Tag\"].values))\n",
    "    totalTags = len(tags)\n",
    "    agg_func = lambda s: [(w, t) for w, t in zip(s[\"Word\"].values.tolist(),s[\"Tag\"].values.tolist())]\n",
    "    sentencesData = df.groupby(\"Sentence#\").apply(agg_func)\n",
    "    sentencesData=[s for s in sentencesData]\n",
    "\n",
    "    largest_sen = max([len(sen) for sen in sentencesData])\n",
    "    maxLen = largest_sen\n",
    "    word2idx = {w: i + 1 for i, w in enumerate(words)}\n",
    "    tag2idx = {t: i for i, t in enumerate(tags)}\n",
    "    print(tag2idx)\n",
    "    \n",
    "    # make all sentences equal size by adding the UNK token at the end of each sentences whose size is less\n",
    "    # than maximum sentence lenght\n",
    "    \n",
    "    X = [[word2idx[w[0]] for w in s] for s in sentencesData]\n",
    "    X = pad_sequences(maxlen=maxLen, sequences=X, padding=\"post\", value=word2idx['UNK'])#totalWords)\n",
    "    Y = [[tag2idx[w[1]] for w in s] for s in sentencesData]\n",
    "    \n",
    "    # additional padding specific to the datasets \n",
    "    if input_data == 'bbc':\n",
    "        Y = pad_sequences(maxlen=maxLen, sequences=Y, padding=\"post\", value=tag2idx['sport'])\n",
    "    elif input_data == 'mpqa':\n",
    "        Y = pad_sequences(maxlen=maxLen, sequences=Y, padding=\"post\", value=tag2idx[0])\n",
    "    else:\n",
    "        Y = pad_sequences(maxlen=maxLen, sequences=Y, padding=\"post\", value=tag2idx['pos'])\n",
    "    Y = [to_categorical(tagIdx, num_classes=totalTags) for tagIdx in Y]\n",
    "    y = np.array(Y)\n",
    "    \n",
    "    return X, y, word2idx, maxLen, totalTags"
   ]
  },
  {
   "cell_type": "markdown",
   "metadata": {},
   "source": [
    "The below function builds the embedding matrix using pre-trained Google News vectors"
   ]
  },
  {
   "cell_type": "code",
   "execution_count": 3,
   "metadata": {},
   "outputs": [],
   "source": [
    "def build_embedding_matrix(word2idx):\n",
    "    embeddings_index = dict()\n",
    "    # Reading embedding file\n",
    "    f = open('GoogleNews-vectors-negative300.bin','rb') # load the pre-trained Google News vectors \n",
    "    # iterate the file line by line add words and coefficient accordingly\n",
    "    for line in f:\n",
    "        values = line.split()\n",
    "        word = values[0]\n",
    "        coefs = np.asarray(values[1:])\n",
    "        embeddings_index[word] = coefs\n",
    "    f.close()\n",
    "    \n",
    "    vocab_size = len(word2idx) + 1\n",
    "    embedding_matrix = zeros((vocab_size, 300)) # initialize an empty embedding matrix \n",
    "    for word, idx_word in word2idx.items():\n",
    "        embedding_vector = embeddings_index.get(word.lower()) \n",
    "        if embedding_vector is not None:\n",
    "            embedding_matrix[idx_word] = embedding_vector\n",
    "    input = Input(shape=(maxLen,))\n",
    "    \n",
    "    return embedding_matrix, vocab_size, input"
   ]
  },
  {
   "cell_type": "markdown",
   "metadata": {},
   "source": [
    "## LSTM model"
   ]
  },
  {
   "cell_type": "markdown",
   "metadata": {},
   "source": [
    "define_lstm_model is a helper function to define the lstm model. This function takes as input the vocabulary size, the embeddings matrix (defined using pre-trained Google News vectors), the maximum length (input length), total tags, input and data. For the activation function we use softmax activation. We use adam as the optimization algorithm. "
   ]
  },
  {
   "cell_type": "code",
   "execution_count": 4,
   "metadata": {},
   "outputs": [],
   "source": [
    "def define_lstm_model(vocab_size, embedding_matrix, maxLen, totalTags, input):\n",
    "    model = Embedding(vocab_size, 300, weights=[embedding_matrix], input_length=maxLen, trainable=False)(input)  \n",
    "    model = Bidirectional(LSTM(units=50, return_sequences=True, recurrent_dropout=0.1))(model)  \n",
    "    out = TimeDistributed(Dense(totalTags, activation=\"softmax\"))(model)\n",
    "    model = Model(input, out)\n",
    "    model.compile(optimizer=\"adam\", loss=\"categorical_crossentropy\", metrics=[\"accuracy\"])\n",
    "    return model"
   ]
  },
  {
   "cell_type": "markdown",
   "metadata": {},
   "source": [
    "run_lstm is a helper function that trains the model using 10-fold cross validation. At each iter, we reserve 10% of the data as validation set. We keep track of the classification accuracy on the test set for each iter and return the mean (average) classification accuracy at the end. "
   ]
  },
  {
   "cell_type": "code",
   "execution_count": 5,
   "metadata": {},
   "outputs": [],
   "source": [
    "def run_lstm(model, X, y):\n",
    "    kf = KFold(n_splits=10)\n",
    "    kf.get_n_splits(X)\n",
    "    KFold(n_splits=10, random_state=None, shuffle=False)\n",
    "    scores = []\n",
    "    for train_index, test_index in kf.split(X): # 10-fold CV, build train-test set according to split indices   \n",
    "        X_train, X_test = X[train_index], X[test_index]\n",
    "        y_train, y_test = y[train_index], y[test_index]\n",
    "        # train the model, keep 10% of the training-set as the validation set \n",
    "        history = model.fit(X_train, y_train, batch_size=32, epochs=2, validation_split=0.1, verbose=1)\n",
    "        scores.append(model.evaluate(X_test,y_test)) # keep track of accuracy for each CV iter \n",
    "    return np.mean(scores, axis = 0)[1] # return average (mean) accuracy "
   ]
  },
  {
   "cell_type": "markdown",
   "metadata": {},
   "source": [
    "## Run model on datasets\n",
    "\n",
    "In this section we run our experiements on the selected datasets."
   ]
  },
  {
   "cell_type": "markdown",
   "metadata": {},
   "source": [
    "#### Subjectivity dataset"
   ]
  },
  {
   "cell_type": "code",
   "execution_count": 27,
   "metadata": {},
   "outputs": [
    {
     "name": "stdout",
     "output_type": "stream",
     "text": [
      "{'pos': 0, 'neg': 1}\n"
     ]
    }
   ],
   "source": [
    "X, Y, word2idx, maxLen, totalTags = prepare_data('subjectivity') # prepare the dataset "
   ]
  },
  {
   "cell_type": "code",
   "execution_count": 29,
   "metadata": {},
   "outputs": [],
   "source": [
    "embedding_matrix, vocab_size, input = build_embedding_matrix(word2idx) # build embedding matrix "
   ]
  },
  {
   "cell_type": "code",
   "execution_count": 30,
   "metadata": {},
   "outputs": [
    {
     "name": "stdout",
     "output_type": "stream",
     "text": [
      "Model: \"model\"\n",
      "_________________________________________________________________\n",
      "Layer (type)                 Output Shape              Param #   \n",
      "=================================================================\n",
      "input_1 (InputLayer)         [(None, 122)]             0         \n",
      "_________________________________________________________________\n",
      "embedding (Embedding)        (None, 122, 300)          6788700   \n",
      "_________________________________________________________________\n",
      "bidirectional (Bidirectional (None, 122, 100)          140400    \n",
      "_________________________________________________________________\n",
      "time_distributed (TimeDistri (None, 122, 2)            202       \n",
      "=================================================================\n",
      "Total params: 6,929,302\n",
      "Trainable params: 140,602\n",
      "Non-trainable params: 6,788,700\n",
      "_________________________________________________________________\n"
     ]
    }
   ],
   "source": [
    "model = define_lstm_model(vocab_size, embedding_matrix, maxLen, totalTags, input)\n",
    "model.summary()"
   ]
  },
  {
   "cell_type": "code",
   "execution_count": 31,
   "metadata": {
    "scrolled": true
   },
   "outputs": [],
   "source": [
    "%%capture\n",
    "acc = run_lstm(model,X,Y)"
   ]
  },
  {
   "cell_type": "code",
   "execution_count": 32,
   "metadata": {},
   "outputs": [
    {
     "name": "stdout",
     "output_type": "stream",
     "text": [
      "The mean classification accuracy for the Subjectivity dataset using LSTM is: 87.66 %\n"
     ]
    }
   ],
   "source": [
    "print('The mean classification accuracy for the Subjectivity dataset using LSTM is: ' , np.round(acc*100, 2), '%')"
   ]
  },
  {
   "cell_type": "markdown",
   "metadata": {},
   "source": [
    "#### rt-polarity dataset"
   ]
  },
  {
   "cell_type": "code",
   "execution_count": 33,
   "metadata": {},
   "outputs": [
    {
     "name": "stdout",
     "output_type": "stream",
     "text": [
      "{'pos': 0, 'neg': 1}\n"
     ]
    }
   ],
   "source": [
    "X, Y, word2idx, maxLen, totalTags = prepare_data('rt-polarity') # prepare the dataset"
   ]
  },
  {
   "cell_type": "code",
   "execution_count": 34,
   "metadata": {},
   "outputs": [],
   "source": [
    "embedding_matrix, vocab_size, input = build_embedding_matrix(word2idx) # build embedding matrix "
   ]
  },
  {
   "cell_type": "code",
   "execution_count": 35,
   "metadata": {},
   "outputs": [
    {
     "name": "stdout",
     "output_type": "stream",
     "text": [
      "Model: \"model_1\"\n",
      "_________________________________________________________________\n",
      "Layer (type)                 Output Shape              Param #   \n",
      "=================================================================\n",
      "input_2 (InputLayer)         [(None, 62)]              0         \n",
      "_________________________________________________________________\n",
      "embedding_1 (Embedding)      (None, 62, 300)           6089700   \n",
      "_________________________________________________________________\n",
      "bidirectional_1 (Bidirection (None, 62, 100)           140400    \n",
      "_________________________________________________________________\n",
      "time_distributed_1 (TimeDist (None, 62, 2)             202       \n",
      "=================================================================\n",
      "Total params: 6,230,302\n",
      "Trainable params: 140,602\n",
      "Non-trainable params: 6,089,700\n",
      "_________________________________________________________________\n"
     ]
    }
   ],
   "source": [
    "model = define_lstm_model(vocab_size, embedding_matrix, maxLen, totalTags, input)\n",
    "model.summary()"
   ]
  },
  {
   "cell_type": "code",
   "execution_count": 36,
   "metadata": {
    "scrolled": true
   },
   "outputs": [],
   "source": [
    "%%capture\n",
    "acc = run_lstm(model,X,Y)"
   ]
  },
  {
   "cell_type": "code",
   "execution_count": 37,
   "metadata": {},
   "outputs": [
    {
     "name": "stdout",
     "output_type": "stream",
     "text": [
      "The mean classification accuracy for the rt-polarity dataset using LSTM is:  79.73 %\n"
     ]
    }
   ],
   "source": [
    "print('The mean classification accuracy for the rt-polarity dataset using LSTM is: ' , np.round(acc*100, 2), '%')"
   ]
  },
  {
   "cell_type": "markdown",
   "metadata": {},
   "source": [
    "#### BBC dataset"
   ]
  },
  {
   "cell_type": "code",
   "execution_count": 38,
   "metadata": {},
   "outputs": [
    {
     "name": "stdout",
     "output_type": "stream",
     "text": [
      "{'tech': 0, 'sport': 1, 'business': 2, 'politics': 3, 'entertainment': 4}\n"
     ]
    }
   ],
   "source": [
    "X, Y, word2idx, maxLen, totalTags = prepare_data('bbc') # prepare the dataset"
   ]
  },
  {
   "cell_type": "code",
   "execution_count": 39,
   "metadata": {},
   "outputs": [],
   "source": [
    "embedding_matrix, vocab_size, input = build_embedding_matrix(word2idx) # build embedding matrix"
   ]
  },
  {
   "cell_type": "code",
   "execution_count": 43,
   "metadata": {},
   "outputs": [
    {
     "name": "stdout",
     "output_type": "stream",
     "text": [
      "Model: \"model_2\"\n",
      "_________________________________________________________________\n",
      "Layer (type)                 Output Shape              Param #   \n",
      "=================================================================\n",
      "input_3 (InputLayer)         [(None, 4757)]            0         \n",
      "_________________________________________________________________\n",
      "embedding_2 (Embedding)        (None, 4757, 300)         10197600  \n",
      "_________________________________________________________________\n",
      "bidirectional_2 (Bidirectional (None, 4757, 100)         140400    \n",
      "_________________________________________________________________\n",
      "time_distributed_2 (TimeDistri (None, 4757, 5)           505       \n",
      "=================================================================\n",
      "Total params: 10,338,505\n",
      "Trainable params: 140,905\n",
      "Non-trainable params: 10,197,600\n",
      "_________________________________________________________________\n"
     ]
    }
   ],
   "source": [
    "model = define_lstm_model(vocab_size, embedding_matrix, maxLen, totalTags, input)\n",
    "model.summary()"
   ]
  },
  {
   "cell_type": "code",
   "execution_count": 44,
   "metadata": {},
   "outputs": [],
   "source": [
    "%%capture\n",
    "acc = run_lstm(model,X,Y)"
   ]
  },
  {
   "cell_type": "code",
   "execution_count": 45,
   "metadata": {},
   "outputs": [
    {
     "name": "stdout",
     "output_type": "stream",
     "text": [
      "The mean classification accuracy for the bbc dataset using LSTM is:  91.65 %\n"
     ]
    }
   ],
   "source": [
    "print('The mean classification accuracy for the bbc dataset using LSTM is: ' ,np.round(acc*100, 2), '%')"
   ]
  },
  {
   "cell_type": "code",
   "execution_count": null,
   "metadata": {},
   "outputs": [],
   "source": []
  }
 ],
 "metadata": {
  "kernelspec": {
   "display_name": "Python 3",
   "language": "python",
   "name": "python3"
  },
  "language_info": {
   "codemirror_mode": {
    "name": "ipython",
    "version": 3
   },
   "file_extension": ".py",
   "mimetype": "text/x-python",
   "name": "python",
   "nbconvert_exporter": "python",
   "pygments_lexer": "ipython3",
   "version": "3.8.5"
  }
 },
 "nbformat": 4,
 "nbformat_minor": 4
}
