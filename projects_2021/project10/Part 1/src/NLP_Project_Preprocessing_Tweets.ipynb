{
 "cells": [
  {
   "cell_type": "code",
   "execution_count": 1,
   "metadata": {},
   "outputs": [],
   "source": [
    "import re\n",
    "import sys\n",
    "import io\n",
    "import preprocessor as p\n",
    "\n",
    "# input and output files\n",
    "infile = \"/users/kumaraprasannajayaraju/Downloads/NLP_Final_Project/Method 1/data/Tweets2Vec_DA.rtf\"\n",
    "outfile = \"/users/kumaraprasannajayaraju/Downloads/NLP_Final_Project/Method 1/data/life_t2v_ds_en_op.txt\"\n",
    "\n",
    "regex_str = [\n",
    "    r'<[^>]+>', # HTML tags\n",
    "    r'(?:@[\\w_]+)', # @-mentions\n",
    "    r\"(?:\\#+[\\w_]+[\\w\\'_\\-]*[\\w_]+)\", # hash-tags\n",
    "    r'http[s]?://(?:[a-z]|[0-9]|[$-_@.&+]|[!*\\(\\),]|(?:%[0-9a-f][0-9a-f]))+', # URLs\n",
    " \n",
    "    r'(?:(?:\\d+,?)+(?:\\.?\\d+)?)', # numbers\n",
    "    r\"(?:[a-z][a-z'\\-_]+[a-z])\", # words with - and '\n",
    "    r'(?:[\\w_]+)', # other words\n",
    "    r'(?:\\S)+' # anything else\n",
    "]\n",
    "\n",
    "tokens_re = re.compile(r'('+'|'.join(regex_str)+')', re.VERBOSE | re.IGNORECASE)\n",
    "\n",
    "def tokenize(s):\n",
    "    return tokens_re.findall(s)\n",
    "\n",
    "def preprocess(s, lowercase=True):\n",
    "    tokens = tokenize(s)\n",
    "    tokens = [token.lower() for token in tokens]\n",
    "\n",
    "    html_regex = re.compile('<[^>]+>')\n",
    "    tokens = [token for token in tokens if not html_regex.match(token)]\n",
    "\n",
    "    mention_regex = re.compile('(?:@[\\w_]+)')\n",
    "    tokens = ['@mention' if mention_regex.match(token) else token for token in tokens]\n",
    "\n",
    "    url_regex = re.compile('http[s]?://(?:[a-z]|[0-9]|[$-_@.&+]|[!*\\(\\),]|(?:%[0-9a-f][0-9a-f]))+')\n",
    "    tokens = ['@url' if url_regex.match(token) else token for token in tokens]\n",
    "\n",
    "    hashtag_regex = re.compile(\"(?:\\#+[\\w_]+[\\w\\'_\\-]*[\\w_]+)\")\n",
    "    tokens = ['@hash' if hashtag_regex.match(token) else token for token in tokens]    \n",
    "\n",
    "    f = p.clean(' '.join([t for t in tokens if t]).replace('rt','')\n",
    "                   .replace(':','').replace('...','')\n",
    "                   .replace('@mention', '').replace('@url', '').replace('@hash', ''))\n",
    "    \n",
    "    return f\n",
    "\n",
    "\n",
    "with io.open(outfile, 'w') as tweet_processed_text, io.open(infile, 'r') as fin:\n",
    "    for line in fin:\n",
    "        tweet_processed_text.write(preprocess(line)+'\\n')"
   ]
  },
  {
   "cell_type": "code",
   "execution_count": null,
   "metadata": {},
   "outputs": [],
   "source": []
  },
  {
   "cell_type": "code",
   "execution_count": null,
   "metadata": {},
   "outputs": [],
   "source": []
  }
 ],
 "metadata": {
  "kernelspec": {
   "display_name": "Python 3",
   "language": "python",
   "name": "python3"
  },
  "language_info": {
   "codemirror_mode": {
    "name": "ipython",
    "version": 3
   },
   "file_extension": ".py",
   "mimetype": "text/x-python",
   "name": "python",
   "nbconvert_exporter": "python",
   "pygments_lexer": "ipython3",
   "version": "3.8.5"
  }
 },
 "nbformat": 4,
 "nbformat_minor": 4
}
