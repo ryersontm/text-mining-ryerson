{
  "cells": [
    {
      "cell_type": "markdown",
      "source": [
        "#**Title: Multi-label Text Classification with BERT**\n",
        "\n",
        "\n",
        "\n",
        "#### Group members: Nitisha Middela, Mitchell Myers\n",
        "\n",
        "####  Emails: lmiddela@ryerson.ca ; mitchell.myers@ryerson.ca"
      ],
      "metadata": {
        "id": "jqYTGTOTVuzE"
      }
    },
    {
      "cell_type": "markdown",
      "source": [
        "# **Introduction**\n",
        " \n",
        "#### Problem Description:\n",
        " \n",
        "This paper aims to explore the impact of pre-trained word embeddings and language models on multi-label text classification. In this specific task, by classifying jobs into  categories based on their descriptions, Tran et al.[1] seek to improve the ability of both recruiters and job seekers to find relevant candidates for their open positions, and jobs that fit their experiences, respectively. This task can also be perceived as assigning keywords to jobs. Before moving forward, it must also be noted that, in this paper, these job categories/keywords are referred to as \"job titles\" but for clarity we will use the terms \"categories\" or \"keywords\" instead since the labels are more general than typical job titles.\n",
        "#### Context of the Problem:\n",
        " \n",
        "In several NLP tasks, pre-trained word embeddings (fastText, ELMO) and language models (XLM-R, BERT and its variations)  have proven to be integral to the success of a classifier. However, the main question Tran et al. focus on in this study is: How effective are they when there are over 60 non-exclusive classes to pick from?\n",
        " \n",
        "Looking through the lense of this particular problem setting, with the development of online job searching and recruitment, the ability for recruiters to find relevant candidates, and job seekers to find the jobs they're looking for has never been easier. However, one of the main ways in which jobs are found is through searching keywords associated with the general industry of interest such as 'Marketing' or 'Real Estate'. Therefore, it is important for recruiters to be aware of what potential categories their job description may fall under or be assoicated to so that they can make sure the appropriate candidates are able to find the posting. Furthermore, being able to classify  and extract potential labels from descriptions could also help recommend potential job types for candidates based on the requirements they are looking to fill.\n",
        " \n",
        " \n",
        "#### Limitation About other Approaches:\n",
        " \n",
        "The main difference between this research and its predecessors is that the previous papers focused only on multi class classification where they were trying to predict a single job title/label, whereas this studies multi-label classification where a job description can have more than one relevant option.\n",
        " \n",
        "#### Solution:\n",
        " \n",
        "Our proposed method involves the use of a BERT model to solve this multi-label prediction task. As seen in previous papers and in Tran et al., deep learning NLP models, especially BERT, are able to detect complex relationships within text data and have proven results in multi-label classification tasks[1][4].\n",
        "\n"
      ],
      "metadata": {
        "id": "rMl_-QR9VuzG"
      }
    },
    {
      "cell_type": "markdown",
      "source": [
        "# **Background**\n",
        "\n",
        "\n",
        "| Reference |Explanation |  Dataset/Input |Weakness\n",
        "| --- | --- | --- | --- |\n",
        "| Lynch[2] | Compared performance of Random Forest and Support Vector Machine (SVM) algorithms on  job title prediction from job description.| Scraped and cleaned dataset from irishjobs.ie | No deep learning models were explored\n",
        "|  Huynh et al.[3] | Compared performance of various deep learning models and pre-trained word embeddings on job title prediction based on job description. Additionally, a simple ensemble model was proposed for this classification task alongside an application that can recommend a job based on the job searchers skills.| IT job prediction dataset | Single-label classification\n",
        "|Bhola et, al.[4]| Using BERT language model and a correlation aware bootstrapping process, a deep learning multi-label classification method for extracting relevant job skills based on job description was proposed.|Mycarrersfuture dataset| No real weakness found. However, the model sometimes predicted too many labels.\n",
        "| Tran et al.[1]| Compared performance of a bidirectional LSTM/GRU ensemble model using different pretrained embeddings and transformer models for multi-label classification of job titles/labels based on their job descriptions. | Scraped, cleaned and standardized from verious job sites| Performance could potentially be improved by adding other job information into learning.\n",
        "\n",
        "\n",
        "\n"
      ],
      "metadata": {
        "id": "3WxDVkAqVuzH"
      }
    },
    {
      "cell_type": "markdown",
      "source": [
        "# **Our Contributions**\n",
        " \n",
        "**Dataset Translation** <br>\n",
        "The original dataset provided by Tran et al. included approximately 22,000 Vietnamese job descriptions with a varying number of job labels associated with each. Our first extension to this paper was translating all descriptions and labels to english to be used in our experiments\n",
        "<br>\n",
        " \n",
        "**BERT Model Implementation in Prediction Task**<br>\n",
        "For the prediction task, Tran et al. implemented an ensemble model combining the learning from the Bi-LSTM and Bi-GRU architectures[1], along with pre-trained embeddings or a language model. In our study, we replace this with a transformers based BERT model and compare performance.\n"
      ],
      "metadata": {
        "id": "ChDbuAcd4kED"
      }
    },
    {
      "cell_type": "markdown",
      "source": [
        "# **Methodology**\n",
        " \n",
        "##Data Translation and Preprocessing\n",
        " \n",
        "Prior to experimentation, our first task was to translate the entire dataset from Vietnamese to English. For this, we dropped any unnecessary columns and used the googltrans library to translate the entire dataframe.\n",
        " \n",
        "Translated data example:\n",
        " \n",
        "<p align=\"center\"><img src=\"https://drive.google.com/uc?id=1IvG7Aui7z-1De_ESXk4AL9XUsZ7QbTYj\" alt=\"Drawing\" width =\"700\" height=\"\"/>\n",
        " \n",
        "To ensure consistency and standardization across all job labels, we mapped similar labels to their standardized versions. For example, [\" \\'advice\\', \\'customer service\\', \\'sales / business\\'\"] will be mapped to ['Advise', 'Customer service', 'Sales / Business']. Levenshtein distance was used as our similarity measure. Additionally, to deal with class imbalances, any label with fewer than 150 training instances was dropped.\n",
        " \n",
        "##BERT Model\n",
        "The training set in a multi-label classification issue is made up of examples each of which can be allocated to many categories represented by a set of target labels, and the aim is to predict the label set of test data, for example.\n",
        "- eg. Job description text might be from any category i.e IT and Software, Architect so for each X we can have output label Y as\n",
        "[1, 0, 0, 1, 1].\n",
        " \n",
        "To solve this problem BERT was implemented. BERT is superior to other bidirectional models because it uses a bidirectional self-attention mechanism that carries out bidirectional conditioning allowing each word to indirectly \"see itself\" in a multi-layered context. Other than that, BERT also uses attention masks which pays attention to the part of the sentence which is critical to the classification label. More specifically, for this task bert-base-uncased is used which has a 12-encoder stack all of which are transformer blocks.\n",
        " \n",
        "**Model Pipeline**\n",
        " \n",
        " \n",
        "<p align=\"center\"><img src=\"https://drive.google.com/uc?id=1TRw0L3VUQGrxhrPpaEMGZJQf-HCTH_GH\" alt=\"Drawing\" width =\"400\"/>\n",
        " \n",
        "**Input Data**<br>\n",
        "The BERT encoder anticipates a token sequence. The processing and conversion of tokens is carried out by inserting the [CLS] token that appears at the start of the first sentence. Each sentence also has a [SEP] token at the end of it. To distinguish between the sentences, we added a segment 'A' or 'B' to the embeddings. To get position embeddings, we also include the position of each token in the sequence.\n",
        "These features of input data are given below:\n",
        " \n",
        "Token_type_ids:\n",
        " - Binary mask which represents where one sentence starts and finishes.<br>\n",
        "eg. [0, 0, 0, 0, 0, 0, 0, 0, 0, 0, 1, 1, 1, 1, 1, 1, 1, 1, 1]<br>\n",
        " \n",
        "Input_ids:\n",
        "- Word tokens are converted into input_ids which are understandable by the Model.<br>\n",
        "eg. [101, 1188, 1110, 170, 1603, 4954, 119, 102, 0, 0, 0, 0, 0, 0, 0, 0, 0, 0, 0]   \n",
        " \n",
        "Attention_mask:\n",
        "- The attention mask is a binary tensor indicating the position of the padded indices so that the model does not attend to them.<br>\n",
        "eg. [1, 1, 1, 1, 1, 1, 1, 1, 0, 0, 0, 0, 0, 0, 0, 0, 0, 0, 0]\n",
        " \n",
        "Targets:\n",
        "- The list of categories labeled as 0 or 1 in the dataframe.<br>\n",
        "eg. [0, 0, 1, 0, 0, 1, 0, 0, 0, 0, 1, 0, 0]\n",
        " \n",
        "**Activation Function**<br>\n",
        "We utilize sigmoid() instead of softmax() to get the probabilities in multi-label classification. There is no significant difference between the two in simple binary classification; however, in multinational classification, sigmoid allows for non-exclusive labels (a.k.a. multi-labels), whereas softmax only allows for exclusive classes.\n",
        " \n",
        "**Loss Function**<br>\n",
        "The loss function is a combination of Binary Cross Entropy and BCELogits, measures the probability error in discrete classification tasks in which each class is independent and not mutually exclusive. This is suitable for multi-label classification problems.\n",
        " \n",
        " \n",
        " \n",
        " \n",
        "**Evaluation Metric**<br>\n",
        "Macro F1 score was used as the main accuracy measure. F1 score can be calculated as:\n",
        "\n",
        "<br><p align=\"center\">$F1 = \\frac{1}{N}\\sum_{i=1}^{N}\\frac{2|y_i\\bigcap \\hat{y}|}{|y_i|+ |\\hat{y}|}$"
      ],
      "metadata": {
        "id": "7VyWYOI-VuzI"
      }
    },
    {
      "cell_type": "markdown",
      "source": [
        "# **Implementation**\n"
      ],
      "metadata": {
        "id": "Kg7VKrPVVuzI"
      }
    },
    {
      "cell_type": "markdown",
      "source": [
        "# Requirements\n",
        "\n",
        "* pandas==1.3.5\n",
        "* python-Levenshtein==0.18.1\n",
        "* matplotlib==3.5.1\n",
        "* pytorch version--->1.7.1+cu110\n",
        "* numpy==1.19.5\n",
        "* sklearn==1.0.2\n",
        "* transformers==4.17.0"
      ],
      "metadata": {
        "id": "acd6e94d"
      }
    },
    {
      "cell_type": "code",
      "execution_count": null,
      "source": [
        "pip install Levenshtein"
      ],
      "outputs": [],
      "metadata": {
        "id": "Zekm4DGeb90K",
        "colab": {
          "base_uri": "https://localhost:8080/"
        },
        "outputId": "bdc1104e-7881-4ae9-e05d-55191555004f"
      }
    },
    {
      "cell_type": "code",
      "execution_count": null,
      "source": [
        "pip install transformers"
      ],
      "outputs": [],
      "metadata": {
        "id": "yiayekcScFf6",
        "colab": {
          "base_uri": "https://localhost:8080/"
        },
        "outputId": "62217535-f451-4688-cf87-d134e782b1b5"
      }
    },
    {
      "cell_type": "code",
      "execution_count": 3,
      "source": [
        "import pandas as pd\n",
        "import Levenshtein\n",
        "import os\n",
        "import numpy as np\n",
        "import pandas as pd\n",
        "from sklearn import metrics\n",
        "import transformers\n",
        "import torch\n",
        "from torch.utils.data import Dataset, DataLoader, RandomSampler, SequentialSampler\n",
        "from transformers import BertTokenizer, BertModel, BertConfig\n",
        "import matplotlib.pyplot as plt\n",
        "from collections import Counter\n",
        "from torch import cuda\n",
        "device = 'cuda' if cuda.is_available() else 'cpu'"
      ],
      "outputs": [],
      "metadata": {
        "id": "88c99adb"
      }
    },
    {
      "cell_type": "markdown",
      "source": [
        "# Get Preprocessed and Translated Data"
      ],
      "metadata": {
        "id": "E8iUQ2o8gRvI"
      }
    },
    {
      "cell_type": "code",
      "execution_count": 4,
      "source": [
        "from google.colab import drive\n",
        "drive.mount('/content/drive')\n",
        "\n",
        "import sys\n",
        "sys.path.insert(0,'/content/drive/My Drive/MLC/src/')\n"
      ],
      "outputs": [
        {
          "output_type": "stream",
          "name": "stdout",
          "text": [
            "Mounted at /content/drive\n"
          ]
        }
      ],
      "metadata": {
        "colab": {
          "base_uri": "https://localhost:8080/"
        },
        "id": "Fi3xtKnQ_JSg",
        "outputId": "8e084558-3ca7-4cc0-c10c-950fa0cdbf32"
      }
    },
    {
      "cell_type": "code",
      "execution_count": 5,
      "source": [
        "import helper_functions\n",
        "\n",
        "train_final, test_final, labels = helper_functions.get_processed_data_EN()"
      ],
      "outputs": [],
      "metadata": {
        "id": "cCUc-TYFD5Xj"
      }
    },
    {
      "cell_type": "markdown",
      "source": [
        "# Label Distribution in training and testing datasets"
      ],
      "metadata": {
        "id": "ja_QEemwHlGc"
      }
    },
    {
      "cell_type": "code",
      "execution_count": 6,
      "source": [
        "xlabs, train_dist, test_dist = helper_functions.get_labelCount_distributions(train_final, test_final)\n",
        "plt.bar(xlabs-.2, train_dist, width=.4, label = 'Train')\n",
        "plt.bar(xlabs+.2, test_dist,width=.4, label = 'Test')\n",
        "plt.legend(loc='upper right')\n",
        "plt.title('Label Distibution')\n",
        "plt.xlabel('Number of Labels')\n",
        "plt.show()"
      ],
      "outputs": [
        {
          "output_type": "display_data",
          "data": {
            "image/png": "[encoded data removed]",
            "text/plain": [
              "<Figure size 432x288 with 1 Axes>"
            ]
          },
          "metadata": {
            "needs_background": "light"
          }
        }
      ],
      "metadata": {
        "colab": {
          "base_uri": "https://localhost:8080/",
          "height": 295
        },
        "id": "jvcuwmy9EeXl",
        "outputId": "05888690-140e-40c4-af56-95c57b56f85b"
      }
    },
    {
      "cell_type": "markdown",
      "source": [
        "# Translated and cleaned dataset with label encodings\n",
        "\n",
        "The get_final_TrainTest function takes the train df, test df and labels and returns two new train and test Dataframes with encoded labels.\n",
        "\n"
      ],
      "metadata": {
        "id": "r9k_r3jOg_a7"
      }
    },
    {
      "cell_type": "code",
      "execution_count": null,
      "source": [
        "final_train, final_test = helper_functions.get_final_TrainTest(train_final,test_final, labels)\n",
        "final_train.head(5)"
      ],
      "outputs": [
        {
          "output_type": "execute_result",
          "data": {
            "text/html": [
              "\n",
              "  <div id=\"df-8b889ec6-92ff-4a91-8d4c-1ba04a46f662\">\n",
              "    <div class=\"colab-df-container\">\n",
              "      <div>\n",
              "<style scoped>\n",
              "    .dataframe tbody tr th:only-of-type {\n",
              "        vertical-align: middle;\n",
              "    }\n",
              "\n",
              "    .dataframe tbody tr th {\n",
              "        vertical-align: top;\n",
              "    }\n",
              "\n",
              "    .dataframe thead th {\n",
              "        text-align: right;\n",
              "    }\n",
              "</style>\n",
              "<table border=\"1\" class=\"dataframe\">\n",
              "  <thead>\n",
              "    <tr style=\"text-align: right;\">\n",
              "      <th></th>\n",
              "      <th>job_description</th>\n",
              "      <th>encodings</th>\n",
              "    </tr>\n",
              "  </thead>\n",
              "  <tbody>\n",
              "    <tr>\n",
              "      <th>0</th>\n",
              "      <td>. Quality Engineers need to have a deeply kno...</td>\n",
              "      <td>[0, 0, 0, 0, 0, 0, 0, 0, 0, 0, 0, 0, 0, 0, 0, ...</td>\n",
              "    </tr>\n",
              "    <tr>\n",
              "      <th>1</th>\n",
              "      <td>Media Planning: (20%) Plan the digital media ...</td>\n",
              "      <td>[0, 0, 0, 0, 0, 0, 0, 0, 0, 0, 0, 0, 0, 0, 0, ...</td>\n",
              "    </tr>\n",
              "    <tr>\n",
              "      <th>2</th>\n",
              "      <td>- Get a list of top selling locations on the ...</td>\n",
              "      <td>[0, 0, 1, 0, 0, 0, 0, 0, 0, 0, 0, 0, 0, 0, 0, ...</td>\n",
              "    </tr>\n",
              "    <tr>\n",
              "      <th>3</th>\n",
              "      <td>Managing sales, building promotion programs, ...</td>\n",
              "      <td>[0, 0, 0, 0, 0, 0, 0, 0, 0, 0, 0, 0, 0, 0, 0, ...</td>\n",
              "    </tr>\n",
              "    <tr>\n",
              "      <th>4</th>\n",
              "      <td>- Search for selection and proposal quality s...</td>\n",
              "      <td>[0, 0, 0, 0, 0, 0, 0, 0, 0, 0, 0, 0, 0, 0, 0, ...</td>\n",
              "    </tr>\n",
              "  </tbody>\n",
              "</table>\n",
              "</div>\n",
              "      <button class=\"colab-df-convert\" onclick=\"convertToInteractive('df-8b889ec6-92ff-4a91-8d4c-1ba04a46f662')\"\n",
              "              title=\"Convert this dataframe to an interactive table.\"\n",
              "              style=\"display:none;\">\n",
              "        \n",
              "  <svg xmlns=\"http://www.w3.org/2000/svg\" height=\"24px\"viewBox=\"0 0 24 24\"\n",
              "       width=\"24px\">\n",
              "    <path d=\"M0 0h24v24H0V0z\" fill=\"none\"/>\n",
              "    <path d=\"M18.56 5.44l.94 2.06.94-2.06 2.06-.94-2.06-.94-.94-2.06-.94 2.06-2.06.94zm-11 1L8.5 8.5l.94-2.06 2.06-.94-2.06-.94L8.5 2.5l-.94 2.06-2.06.94zm10 10l.94 2.06.94-2.06 2.06-.94-2.06-.94-.94-2.06-.94 2.06-2.06.94z\"/><path d=\"M17.41 7.96l-1.37-1.37c-.4-.4-.92-.59-1.43-.59-.52 0-1.04.2-1.43.59L10.3 9.45l-7.72 7.72c-.78.78-.78 2.05 0 2.83L4 21.41c.39.39.9.59 1.41.59.51 0 1.02-.2 1.41-.59l7.78-7.78 2.81-2.81c.8-.78.8-2.07 0-2.86zM5.41 20L4 18.59l7.72-7.72 1.47 1.35L5.41 20z\"/>\n",
              "  </svg>\n",
              "      </button>\n",
              "      \n",
              "  <style>\n",
              "    .colab-df-container {\n",
              "      display:flex;\n",
              "      flex-wrap:wrap;\n",
              "      gap: 12px;\n",
              "    }\n",
              "\n",
              "    .colab-df-convert {\n",
              "      background-color: #E8F0FE;\n",
              "      border: none;\n",
              "      border-radius: 50%;\n",
              "      cursor: pointer;\n",
              "      display: none;\n",
              "      fill: #1967D2;\n",
              "      height: 32px;\n",
              "      padding: 0 0 0 0;\n",
              "      width: 32px;\n",
              "    }\n",
              "\n",
              "    .colab-df-convert:hover {\n",
              "      background-color: #E2EBFA;\n",
              "      box-shadow: 0px 1px 2px rgba(60, 64, 67, 0.3), 0px 1px 3px 1px rgba(60, 64, 67, 0.15);\n",
              "      fill: #174EA6;\n",
              "    }\n",
              "\n",
              "    [theme=dark] .colab-df-convert {\n",
              "      background-color: #3B4455;\n",
              "      fill: #D2E3FC;\n",
              "    }\n",
              "\n",
              "    [theme=dark] .colab-df-convert:hover {\n",
              "      background-color: #434B5C;\n",
              "      box-shadow: 0px 1px 3px 1px rgba(0, 0, 0, 0.15);\n",
              "      filter: drop-shadow(0px 1px 2px rgba(0, 0, 0, 0.3));\n",
              "      fill: #FFFFFF;\n",
              "    }\n",
              "  </style>\n",
              "\n",
              "      <script>\n",
              "        const buttonEl =\n",
              "          document.querySelector('#df-8b889ec6-92ff-4a91-8d4c-1ba04a46f662 button.colab-df-convert');\n",
              "        buttonEl.style.display =\n",
              "          google.colab.kernel.accessAllowed ? 'block' : 'none';\n",
              "\n",
              "        async function convertToInteractive(key) {\n",
              "          const element = document.querySelector('#df-8b889ec6-92ff-4a91-8d4c-1ba04a46f662');\n",
              "          const dataTable =\n",
              "            await google.colab.kernel.invokeFunction('convertToInteractive',\n",
              "                                                     [key], {});\n",
              "          if (!dataTable) return;\n",
              "\n",
              "          const docLinkHtml = 'Like what you see? Visit the ' +\n",
              "            '<a target=\"_blank\" href=https://colab.research.google.com/notebooks/data_table.ipynb>data table notebook</a>'\n",
              "            + ' to learn more about interactive tables.';\n",
              "          element.innerHTML = '';\n",
              "          dataTable['output_type'] = 'display_data';\n",
              "          await google.colab.output.renderOutput(dataTable, element);\n",
              "          const docLink = document.createElement('div');\n",
              "          docLink.innerHTML = docLinkHtml;\n",
              "          element.appendChild(docLink);\n",
              "        }\n",
              "      </script>\n",
              "    </div>\n",
              "  </div>\n",
              "  "
            ],
            "text/plain": [
              "                                     job_description  \\\n",
              "0   . Quality Engineers need to have a deeply kno...   \n",
              "1   Media Planning: (20%) Plan the digital media ...   \n",
              "2   - Get a list of top selling locations on the ...   \n",
              "3   Managing sales, building promotion programs, ...   \n",
              "4   - Search for selection and proposal quality s...   \n",
              "\n",
              "                                           encodings  \n",
              "0  [0, 0, 0, 0, 0, 0, 0, 0, 0, 0, 0, 0, 0, 0, 0, ...  \n",
              "1  [0, 0, 0, 0, 0, 0, 0, 0, 0, 0, 0, 0, 0, 0, 0, ...  \n",
              "2  [0, 0, 1, 0, 0, 0, 0, 0, 0, 0, 0, 0, 0, 0, 0, ...  \n",
              "3  [0, 0, 0, 0, 0, 0, 0, 0, 0, 0, 0, 0, 0, 0, 0, ...  \n",
              "4  [0, 0, 0, 0, 0, 0, 0, 0, 0, 0, 0, 0, 0, 0, 0, ...  "
            ]
          },
          "metadata": {},
          "execution_count": 19
        }
      ],
      "metadata": {
        "colab": {
          "base_uri": "https://localhost:8080/",
          "height": 206
        },
        "id": "ZJrIkC56VuzJ",
        "outputId": "2b4e39ac-f055-4ac6-f647-82a69a4418eb"
      }
    },
    {
      "cell_type": "markdown",
      "source": [
        "# Model Configuration\n",
        "1. Maximum Sequence length\n",
        "2. Training Batch Size\n",
        "3. Validation Batch Size\n",
        "4. Epochs for training\n",
        "5. Learning Rate\n",
        "6. Tokenizer"
      ],
      "metadata": {
        "id": "55a18718"
      }
    },
    {
      "cell_type": "code",
      "execution_count": null,
      "source": [
        "MAX_LEN = 450\n",
        "TRAIN_BATCH_SIZE = 2\n",
        "VALID_BATCH_SIZE = 1\n",
        "EPOCHS = 10\n",
        "LEARNING_RATE = 1e-05\n",
        "tokenizer = BertTokenizer.from_pretrained('bert-base-uncased')"
      ],
      "outputs": [
        {
          "output_type": "display_data",
          "data": {
            "application/vnd.jupyter.widget-view+json": {
              "version_major": 2,
              "version_minor": 0,
              "model_id": "783e75bcb748483ca2e62ad3f49aaa99"
            },
            "text/plain": [
              "Downloading:   0%|          | 0.00/226k [00:00<?, ?B/s]"
            ]
          },
          "metadata": {}
        },
        {
          "output_type": "display_data",
          "data": {
            "application/vnd.jupyter.widget-view+json": {
              "version_major": 2,
              "version_minor": 0,
              "model_id": "46429d94fe1848c99c82cffe42893da1"
            },
            "text/plain": [
              "Downloading:   0%|          | 0.00/28.0 [00:00<?, ?B/s]"
            ]
          },
          "metadata": {}
        },
        {
          "output_type": "display_data",
          "data": {
            "application/vnd.jupyter.widget-view+json": {
              "version_major": 2,
              "version_minor": 0,
              "model_id": "e1bb07e1efc1486791525931ec36d7c8"
            },
            "text/plain": [
              "Downloading:   0%|          | 0.00/570 [00:00<?, ?B/s]"
            ]
          },
          "metadata": {}
        }
      ],
      "metadata": {
        "id": "bf094027",
        "colab": {
          "base_uri": "https://localhost:8080/",
          "height": 113,
          "referenced_widgets": [
            "783e75bcb748483ca2e62ad3f49aaa99",
            "a8df38ea31c547d9a3e9e815f7af7e87",
            "49a24026f91746a6923c8ac4f3fb78b3",
            "31386462dcde4b29bda6adb831da9aba",
            "b0d4443e80ed416ca223a943eed043ed",
            "08ccd36197714d33a314a8c03f4d4df8",
            "ad398a34e650495f8cf38bbe5d604db1",
            "32cb22d85d0a4f39b0f9135f8d097fdd",
            "f7fcad8319be4db0a7f8289ac90e8c34",
            "6e45abc4804e441f9833f8909c98a99f",
            "6e6da8ecd2cf4e089bd9f420b399155d",
            "46429d94fe1848c99c82cffe42893da1",
            "f18886de20f3488ab7ee0a7957d24ac8",
            "8c6c07c1eb16420ab7ece60963db1e71",
            "a61551c502c34a8ea8b9760f50111193",
            "ac92de7c6edc45879e0ef8034b27a28f",
            "f9679c4267db48978b7739eeac221e52",
            "6d1729be966146ca9be746315564015c",
            "a9dc3bcab71241dfaba0763bf61965f8",
            "a836cca033284986b2f8db29a734f03f",
            "a88a64c8781a4651af0e56819421415b",
            "610f39bc5e234477a0ded5dbd0331c98",
            "e1bb07e1efc1486791525931ec36d7c8",
            "9531948d563a461c8944067128df2f24",
            "47fbefee43cf4d819f005726d481405c",
            "afd5c3084bd64c37b74215b19d5d013e",
            "ae110a546c9f4b9e90caceae9d63b5a9",
            "7b7de80e97494a3987ca8e46e8e58524",
            "7b17626217484667b20e66f11b56110d",
            "95b00fc274a64c3a8d454214437a4096",
            "5cdf08bd80e249d3bc0c1e32fc0bdf95",
            "5016f497a1294d588be230aefa6446f2",
            "771a358af4134c61b5a9d494711f764f"
          ]
        },
        "outputId": "5324c66b-5006-4fe2-c54c-74dda1d2fd26"
      }
    },
    {
      "cell_type": "code",
      "execution_count": null,
      "source": [
        "class CustomDataset(Dataset):\n",
        "\n",
        "    def __init__(self, dataframe, tokenizer, max_len):\n",
        "        self.tokenizer = tokenizer\n",
        "        self.data = dataframe\n",
        "        self.job_description = dataframe.job_description\n",
        "        self.targets = self.data.encodings\n",
        "        self.max_len = max_len\n",
        "\n",
        "    def __len__(self):\n",
        "        return len(self.job_description)\n",
        "\n",
        "    def __getitem__(self, index):\n",
        "        job_description = str(self.job_description[index])\n",
        "        job_description = \" \".join(job_description.split())\n",
        "\n",
        "        inputs = self.tokenizer.encode_plus(\n",
        "            job_description,\n",
        "            None,\n",
        "            add_special_tokens=True,\n",
        "            max_length=self.max_len,\n",
        "            pad_to_max_length=True,\n",
        "            return_token_type_ids=True\n",
        "        )\n",
        "        ids = inputs['input_ids']\n",
        "        mask = inputs['attention_mask']\n",
        "        token_type_ids = inputs[\"token_type_ids\"]\n",
        "\n",
        "\n",
        "        return {\n",
        "            'ids': torch.tensor(ids, dtype=torch.long),\n",
        "            'mask': torch.tensor(mask, dtype=torch.long),\n",
        "            'token_type_ids': torch.tensor(token_type_ids, dtype=torch.long),\n",
        "            'targets': torch.tensor(self.targets[index], dtype=torch.float)\n",
        "        }"
      ],
      "outputs": [],
      "metadata": {
        "id": "37259237"
      }
    },
    {
      "cell_type": "markdown",
      "source": [
        "# Creating the dataset and dataloader for the Transformers Based BERT"
      ],
      "metadata": {
        "id": "b7d2bb8c"
      }
    },
    {
      "cell_type": "code",
      "execution_count": null,
      "source": [
        "train_dataset=final_train.sample(frac=1,random_state=200)\n",
        "train_dataset = train_dataset.reset_index(drop=True)\n",
        "test_dataset=final_test.sample(frac=1,random_state=200)\n",
        "test_dataset = test_dataset.reset_index(drop=True)\n",
        "\n",
        "\n",
        "print(\"TRAIN Dataset: {}\".format(train_dataset.shape))\n",
        "print(\"TEST Dataset: {}\".format(test_dataset.shape))\n",
        "\n",
        "training_set = CustomDataset(train_dataset, tokenizer, MAX_LEN)\n",
        "testing_set = CustomDataset(test_dataset, tokenizer, MAX_LEN)\n",
        "\n",
        "train_params = {'batch_size': TRAIN_BATCH_SIZE,\n",
        "                'shuffle': True,\n",
        "                'num_workers': 0\n",
        "                }\n",
        "\n",
        "test_params = {'batch_size': VALID_BATCH_SIZE,\n",
        "                'shuffle': True,\n",
        "                'num_workers': 0\n",
        "                }\n",
        "\n",
        "training_loader = DataLoader(training_set, **train_params)\n",
        "testing_loader = DataLoader(testing_set, **test_params)"
      ],
      "outputs": [
        {
          "output_type": "stream",
          "name": "stdout",
          "text": [
            "TRAIN Dataset: (19911, 2)\n",
            "TEST Dataset: (2628, 2)\n"
          ]
        }
      ],
      "metadata": {
        "colab": {
          "base_uri": "https://localhost:8080/"
        },
        "id": "cfd31547",
        "outputId": "345c1afb-55f0-4baa-f041-d1617104a7bc"
      }
    },
    {
      "cell_type": "markdown",
      "source": [
        "# Model Creation\n",
        "* Creating the customized model\n",
        "* Adding a drop out and a dense layer on top of distil bert to get the final output for the model. \n",
        "* Output dimention is (768, num_classes)\n",
        "* A dropout layer for *Regularization*.\n",
        "* linear layer for *classification*\n",
        "\n",
        "#Loss Function and Optimizer\n",
        "* The loss function will be a combination of Binary Cross\n",
        "Entropy and BCELogits Loss in PyTorch Optimizer.\n",
        "\n",
        "* To increase the performance of the neural network, the optimizer is utilised to adjust the weights."
      ],
      "metadata": {
        "id": "aa7d9627"
      }
    },
    {
      "cell_type": "code",
      "execution_count": null,
      "source": [
        "class BERTClass(torch.nn.Module):\n",
        "    def __init__(self):\n",
        "        super(BERTClass, self).__init__()\n",
        "        self.l1 = transformers.BertModel.from_pretrained('bert-base-uncased')\n",
        "        self.l2 = torch.nn.Dropout(0.3)\n",
        "        self.l3 = torch.nn.Linear(768, 68)\n",
        "    \n",
        "    def forward(self, ids, mask, token_type_ids):\n",
        "        _, output_1= self.l1(ids, attention_mask = mask, token_type_ids = token_type_ids, return_dict=False)\n",
        "        output_2 = self.l2(output_1)\n",
        "        output = self.l3(output_2)\n",
        "        return output\n",
        "\n",
        "model = BERTClass()\n",
        "model.to(device)"
      ],
      "outputs": [],
      "metadata": {
        "id": "c495aab8"
      }
    },
    {
      "cell_type": "code",
      "execution_count": null,
      "source": [
        "def loss_fn(outputs, targets):\n",
        "    return torch.nn.BCEWithLogitsLoss()(outputs, targets)\n",
        "\n",
        "optimizer = torch.optim.Adam(params =  model.parameters(), lr=LEARNING_RATE)"
      ],
      "outputs": [],
      "metadata": {
        "id": "3lmGSwnjVuzK"
      }
    },
    {
      "cell_type": "markdown",
      "source": [
        "# Training Loop\n",
        "* The dataloader sends data to the model in batches of a certain size.\n",
        "* The weights of the neurons in the network are optimised using the loss value.\n",
        "* To determine the loss, the model's subsequent output and the actual category are compared.\n",
        "* The loss value is reported in the console after every 50 steps."
      ],
      "metadata": {
        "id": "d239548b"
      }
    },
    {
      "cell_type": "code",
      "execution_count": null,
      "source": [
        "def train(epoch, loss_numb):\n",
        "    model.train()\n",
        "    for _,data in enumerate(training_loader, 0):\n",
        "        ids = data['ids'].to(device, dtype = torch.long)\n",
        "        mask = data['mask'].to(device, dtype = torch.long)\n",
        "        token_type_ids = data['token_type_ids'].to(device, dtype = torch.long)\n",
        "        targets = data['targets'].to(device, dtype = torch.float)\n",
        "        outputs = model(ids, mask, token_type_ids)\n",
        "\n",
        "        optimizer.zero_grad()\n",
        "        loss = loss_fn(outputs, targets)\n",
        "        #display loss after every 50 iterations\n",
        "        if _%50==0:\n",
        "            print(f'Epoch: {epoch}/{EPOCHS}, Loss:  {loss.item()}', _)\n",
        "            loss_numb.append(loss.item())\n",
        "        \n",
        "        optimizer.zero_grad()\n",
        "        loss.backward()\n",
        "        optimizer.step()\n",
        "    return loss_numb\n",
        "\n",
        "EPOCH = []\n",
        "loss_numb = []\n",
        "for epoch in range(EPOCHS):\n",
        "    EPOCH.append(epoch)\n",
        "    loss_numb = train(epoch, loss_numb)\n",
        "torch.save(model,'trained_model_final_test.pt')"
      ],
      "outputs": [],
      "metadata": {
        "scrolled": true,
        "id": "a268e3ea"
      }
    },
    {
      "cell_type": "markdown",
      "source": [
        "# Plotting Training Curve"
      ],
      "metadata": {
        "id": "0256d5c9"
      }
    },
    {
      "cell_type": "code",
      "execution_count": null,
      "source": [
        "from matplotlib import pyplot as plt\n",
        "plt.plot(list(range(0, len(loss_numb))), loss_numb, label =  'training loss curve')\n",
        "plt.xlabel(\"iterations\")\n",
        "plt.ylabel(\"Training loss\")\n",
        "plt.title(\"Training Curve\")"
      ],
      "outputs": [
        {
          "output_type": "execute_result",
          "data": {
            "text/plain": [
              "Text(0.5, 1.0, 'Training Curve')"
            ]
          },
          "metadata": {},
          "execution_count": 181
        },
        {
          "output_type": "display_data",
          "data": {
            "image/png": "[encoded data removed]",
            "text/plain": [
              "<Figure size 432x288 with 1 Axes>"
            ]
          },
          "metadata": {
            "needs_background": "light"
          }
        }
      ],
      "metadata": {
        "id": "35f84017",
        "outputId": "ce60e658-6287-4316-8d46-1fcfd5ba6832"
      }
    },
    {
      "cell_type": "markdown",
      "source": [
        "# Inference\n"
      ],
      "metadata": {
        "id": "ac6cb3b5"
      }
    },
    {
      "cell_type": "markdown",
      "source": [
        "If using provided model weights then run the below cell"
      ],
      "metadata": {
        "id": "9ROlH-hznfdu"
      }
    },
    {
      "cell_type": "code",
      "execution_count": null,
      "source": [
        "model = torch.load(\"trained_model_final.pt\" )"
      ],
      "outputs": [],
      "metadata": {
        "id": "2r9oTAIHk3BZ"
      }
    },
    {
      "cell_type": "code",
      "execution_count": null,
      "source": [
        "def inference():\n",
        "    model.eval()\n",
        "    fin_targets=[]\n",
        "    fin_outputs=[]\n",
        "    with torch.no_grad():\n",
        "        for _, data in enumerate(testing_loader, 0):\n",
        "            if (_%1000) == 0:\n",
        "                print(\"Inferred examples number =  \", _)\n",
        "            ids = data['ids'].to(device, dtype = torch.long)\n",
        "            mask = data['mask'].to(device, dtype = torch.long)\n",
        "            token_type_ids = data['token_type_ids'].to(device, dtype = torch.long)\n",
        "            targets = data['targets'].to(device, dtype = torch.float)\n",
        "            outputs = model(ids, mask, token_type_ids)\n",
        "            fin_targets.extend(targets.cpu().detach().numpy().tolist())\n",
        "            fin_outputs.extend(torch.sigmoid(outputs).cpu().detach().numpy().tolist())\n",
        "            list_output = torch.sigmoid(outputs[0]).cpu().detach().numpy().tolist()\n",
        "    return fin_outputs, fin_targets\n",
        "model = torch.load(\"trained_model_final.pt\")\n",
        "results = []\n",
        "f_outputs, f_targets = inference()\n",
        "outputs = np.array(f_outputs) >= 0.5 \n",
        "targets = np.array(f_targets) == 1\n",
        "\n",
        "for i in range(len(outputs)):\n",
        "    pred = labels.job_type[outputs[i]].values.tolist()\n",
        "    gt = labels.job_type[targets[i]].values.tolist()\n",
        "    results.append([pred, gt])"
      ],
      "outputs": [],
      "metadata": {
        "id": "241WNQWCroom"
      }
    },
    {
      "cell_type": "markdown",
      "source": [
        "#Example Predictions"
      ],
      "metadata": {
        "id": "ZpUSau3gYY2t"
      }
    },
    {
      "cell_type": "code",
      "execution_count": null,
      "source": [
        "example_preds = pd.DataFrame(columns = ['Ground Truth Job Labels', 'Predicted Job Labels'])\n",
        "for pred, gt in results[:10]:\n",
        "  example_preds = example_preds.append({'Ground Truth Job Labels':gt,'Predicted Job Labels':pred }, ignore_index=True)\n",
        "example_preds"
      ],
      "outputs": [
        {
          "output_type": "execute_result",
          "data": {
            "text/html": [
              "\n",
              "  <div id=\"df-90328246-72cb-4829-b061-c90f29af15c9\">\n",
              "    <div class=\"colab-df-container\">\n",
              "      <div>\n",
              "<style scoped>\n",
              "    .dataframe tbody tr th:only-of-type {\n",
              "        vertical-align: middle;\n",
              "    }\n",
              "\n",
              "    .dataframe tbody tr th {\n",
              "        vertical-align: top;\n",
              "    }\n",
              "\n",
              "    .dataframe thead th {\n",
              "        text-align: right;\n",
              "    }\n",
              "</style>\n",
              "<table border=\"1\" class=\"dataframe\">\n",
              "  <thead>\n",
              "    <tr style=\"text-align: right;\">\n",
              "      <th></th>\n",
              "      <th>Ground Truth Job Labels</th>\n",
              "      <th>Predicted Job Labels</th>\n",
              "    </tr>\n",
              "  </thead>\n",
              "  <tbody>\n",
              "    <tr>\n",
              "      <th>0</th>\n",
              "      <td>[IT - Hardware / Network]</td>\n",
              "      <td>[IT - Hardware / Network]</td>\n",
              "    </tr>\n",
              "    <tr>\n",
              "      <th>1</th>\n",
              "      <td>[Mechanical / Automotive / Automation, Fine Ar...</td>\n",
              "      <td>[Architecture]</td>\n",
              "    </tr>\n",
              "    <tr>\n",
              "      <th>2</th>\n",
              "      <td>[Maintenance / Repair, Mechanical / Automotive...</td>\n",
              "      <td>[Maintenance / Repair, Mechanical / Automotive...</td>\n",
              "    </tr>\n",
              "    <tr>\n",
              "      <th>3</th>\n",
              "      <td>[Maintenance / Repair, Electrical / Electronic...</td>\n",
              "      <td>[Maintenance / Repair]</td>\n",
              "    </tr>\n",
              "    <tr>\n",
              "      <th>4</th>\n",
              "      <td>[Accounting and auditing]</td>\n",
              "      <td>[Accounting and auditing]</td>\n",
              "    </tr>\n",
              "    <tr>\n",
              "      <th>5</th>\n",
              "      <td>[Finance / Investment, Advise]</td>\n",
              "      <td>[Finance / Investment, Advise]</td>\n",
              "    </tr>\n",
              "    <tr>\n",
              "      <th>6</th>\n",
              "      <td>[Marketing / Marketing]</td>\n",
              "      <td>[IT - Software, Fine Arts / Art / Design]</td>\n",
              "    </tr>\n",
              "    <tr>\n",
              "      <th>7</th>\n",
              "      <td>[Translation, Insurance, Finance / Investment]</td>\n",
              "      <td>[Insurance, Finance / Investment, Advise]</td>\n",
              "    </tr>\n",
              "    <tr>\n",
              "      <th>8</th>\n",
              "      <td>[Translation, Customer service, Finance / Inve...</td>\n",
              "      <td>[Translation, Customer service, Finance / Inve...</td>\n",
              "    </tr>\n",
              "    <tr>\n",
              "      <th>9</th>\n",
              "      <td>[Maintenance / Repair, Mechanical / Automotive...</td>\n",
              "      <td>[Maintenance / Repair, Mechanical / Automotive...</td>\n",
              "    </tr>\n",
              "  </tbody>\n",
              "</table>\n",
              "</div>\n",
              "      <button class=\"colab-df-convert\" onclick=\"convertToInteractive('df-90328246-72cb-4829-b061-c90f29af15c9')\"\n",
              "              title=\"Convert this dataframe to an interactive table.\"\n",
              "              style=\"display:none;\">\n",
              "        \n",
              "  <svg xmlns=\"http://www.w3.org/2000/svg\" height=\"24px\"viewBox=\"0 0 24 24\"\n",
              "       width=\"24px\">\n",
              "    <path d=\"M0 0h24v24H0V0z\" fill=\"none\"/>\n",
              "    <path d=\"M18.56 5.44l.94 2.06.94-2.06 2.06-.94-2.06-.94-.94-2.06-.94 2.06-2.06.94zm-11 1L8.5 8.5l.94-2.06 2.06-.94-2.06-.94L8.5 2.5l-.94 2.06-2.06.94zm10 10l.94 2.06.94-2.06 2.06-.94-2.06-.94-.94-2.06-.94 2.06-2.06.94z\"/><path d=\"M17.41 7.96l-1.37-1.37c-.4-.4-.92-.59-1.43-.59-.52 0-1.04.2-1.43.59L10.3 9.45l-7.72 7.72c-.78.78-.78 2.05 0 2.83L4 21.41c.39.39.9.59 1.41.59.51 0 1.02-.2 1.41-.59l7.78-7.78 2.81-2.81c.8-.78.8-2.07 0-2.86zM5.41 20L4 18.59l7.72-7.72 1.47 1.35L5.41 20z\"/>\n",
              "  </svg>\n",
              "      </button>\n",
              "      \n",
              "  <style>\n",
              "    .colab-df-container {\n",
              "      display:flex;\n",
              "      flex-wrap:wrap;\n",
              "      gap: 12px;\n",
              "    }\n",
              "\n",
              "    .colab-df-convert {\n",
              "      background-color: #E8F0FE;\n",
              "      border: none;\n",
              "      border-radius: 50%;\n",
              "      cursor: pointer;\n",
              "      display: none;\n",
              "      fill: #1967D2;\n",
              "      height: 32px;\n",
              "      padding: 0 0 0 0;\n",
              "      width: 32px;\n",
              "    }\n",
              "\n",
              "    .colab-df-convert:hover {\n",
              "      background-color: #E2EBFA;\n",
              "      box-shadow: 0px 1px 2px rgba(60, 64, 67, 0.3), 0px 1px 3px 1px rgba(60, 64, 67, 0.15);\n",
              "      fill: #174EA6;\n",
              "    }\n",
              "\n",
              "    [theme=dark] .colab-df-convert {\n",
              "      background-color: #3B4455;\n",
              "      fill: #D2E3FC;\n",
              "    }\n",
              "\n",
              "    [theme=dark] .colab-df-convert:hover {\n",
              "      background-color: #434B5C;\n",
              "      box-shadow: 0px 1px 3px 1px rgba(0, 0, 0, 0.15);\n",
              "      filter: drop-shadow(0px 1px 2px rgba(0, 0, 0, 0.3));\n",
              "      fill: #FFFFFF;\n",
              "    }\n",
              "  </style>\n",
              "\n",
              "      <script>\n",
              "        const buttonEl =\n",
              "          document.querySelector('#df-90328246-72cb-4829-b061-c90f29af15c9 button.colab-df-convert');\n",
              "        buttonEl.style.display =\n",
              "          google.colab.kernel.accessAllowed ? 'block' : 'none';\n",
              "\n",
              "        async function convertToInteractive(key) {\n",
              "          const element = document.querySelector('#df-90328246-72cb-4829-b061-c90f29af15c9');\n",
              "          const dataTable =\n",
              "            await google.colab.kernel.invokeFunction('convertToInteractive',\n",
              "                                                     [key], {});\n",
              "          if (!dataTable) return;\n",
              "\n",
              "          const docLinkHtml = 'Like what you see? Visit the ' +\n",
              "            '<a target=\"_blank\" href=https://colab.research.google.com/notebooks/data_table.ipynb>data table notebook</a>'\n",
              "            + ' to learn more about interactive tables.';\n",
              "          element.innerHTML = '';\n",
              "          dataTable['output_type'] = 'display_data';\n",
              "          await google.colab.output.renderOutput(dataTable, element);\n",
              "          const docLink = document.createElement('div');\n",
              "          docLink.innerHTML = docLinkHtml;\n",
              "          element.appendChild(docLink);\n",
              "        }\n",
              "      </script>\n",
              "    </div>\n",
              "  </div>\n",
              "  "
            ],
            "text/plain": [
              "                             Ground Truth Job Labels  \\\n",
              "0                          [IT - Hardware / Network]   \n",
              "1  [Mechanical / Automotive / Automation, Fine Ar...   \n",
              "2  [Maintenance / Repair, Mechanical / Automotive...   \n",
              "3  [Maintenance / Repair, Electrical / Electronic...   \n",
              "4                          [Accounting and auditing]   \n",
              "5                     [Finance / Investment, Advise]   \n",
              "6                            [Marketing / Marketing]   \n",
              "7     [Translation, Insurance, Finance / Investment]   \n",
              "8  [Translation, Customer service, Finance / Inve...   \n",
              "9  [Maintenance / Repair, Mechanical / Automotive...   \n",
              "\n",
              "                                Predicted Job Labels  \n",
              "0                          [IT - Hardware / Network]  \n",
              "1                                     [Architecture]  \n",
              "2  [Maintenance / Repair, Mechanical / Automotive...  \n",
              "3                             [Maintenance / Repair]  \n",
              "4                          [Accounting and auditing]  \n",
              "5                     [Finance / Investment, Advise]  \n",
              "6          [IT - Software, Fine Arts / Art / Design]  \n",
              "7          [Insurance, Finance / Investment, Advise]  \n",
              "8  [Translation, Customer service, Finance / Inve...  \n",
              "9  [Maintenance / Repair, Mechanical / Automotive...  "
            ]
          },
          "metadata": {},
          "execution_count": 27
        }
      ],
      "metadata": {
        "colab": {
          "base_uri": "https://localhost:8080/",
          "height": 363
        },
        "id": "Z9PLmlCNt7Fu",
        "outputId": "f1f23757-bb25-4d68-de1c-ea343dea1a7a"
      }
    },
    {
      "cell_type": "markdown",
      "source": [
        "# Post Processing Results\n",
        "\n",
        "* Data is post processed using following method.\n",
        "     * If ground truth is [a , b ,c] and prediction is [a , b , d]\n",
        "     * Then ground truth witll be [1, 1, 1] and prediction maps to [1, 1, 0] since insted of \"c\" in the ground truth model predicted \"d\". \n",
        "     "
      ],
      "metadata": {
        "id": "9d34cf98"
      }
    },
    {
      "cell_type": "code",
      "execution_count": null,
      "source": [
        "over_all_pred = []\n",
        "over_all_gt = []\n",
        "for i in results:\n",
        "    number_of_correct = []\n",
        "    for j in i[0]:\n",
        "        if j in i[1]:\n",
        "          number_of_correct.append(1)\n",
        "    \n",
        "    over_all_pred.append(number_of_correct)\n",
        "    over_all_gt.append([1]*len(i[1]))\n",
        "    \n",
        "match_diff0 = []\n",
        "match_diff1= []\n",
        "match_diff2 = []\n",
        "\n",
        "for idx, ii in enumerate(over_all_pred):\n",
        "    \n",
        "    sum_pred = sum(ii)\n",
        "    sum_gt = sum(over_all_gt[idx])\n",
        "    \n",
        "    if abs(sum_pred - sum_gt) == 0 :\n",
        "        match_diff0.append(1)\n",
        "        match_diff1.append(1)\n",
        "        match_diff2.append(1)\n",
        "\n",
        "    elif (sum_pred-sum_gt == 1 or sum_pred-sum_gt == -1) and sum_pred!=0:\n",
        "        match_diff0.append(0)\n",
        "        match_diff1.append(1)\n",
        "        match_diff2.append(1)\n",
        "\n",
        "    elif (sum_pred-sum_gt == 2 or sum_pred-sum_gt == -2) and sum_pred!=0:\n",
        "        match_diff0.append(0)\n",
        "        match_diff1.append(0)\n",
        "        match_diff2.append(1)\n",
        "        \n",
        "    else:\n",
        "        match_diff0.append(0)\n",
        "        match_diff1.append(0)\n",
        "        match_diff2.append(0)               "
      ],
      "outputs": [],
      "metadata": {
        "id": "ed8a0f87"
      }
    },
    {
      "cell_type": "markdown",
      "source": [
        "# Performance Metrics with complete match\n",
        "* if there is a complete match, prediction will be counted as correct<br>**For Example**<br>**Ground Truth**&nbsp;&nbsp;&nbsp;&nbsp;&nbsp;&nbsp;&nbsp;&nbsp;**Prediction** <br>\n",
        "&nbsp;&nbsp;&nbsp;&nbsp;[a, b] &nbsp;&nbsp;&nbsp;&nbsp;&nbsp;&nbsp;&nbsp;&nbsp;&nbsp;&nbsp;&nbsp;&nbsp;&nbsp;&nbsp;&nbsp;&nbsp;&nbsp;&nbsp;&nbsp;&nbsp;[a, b]<br>\n",
        "&nbsp;&nbsp;&nbsp;&nbsp;[g, f, m] &nbsp;&nbsp;&nbsp;&nbsp;&nbsp;&nbsp;&nbsp;&nbsp;&nbsp;&nbsp;&nbsp;&nbsp;&nbsp;&nbsp;&nbsp;&nbsp;[g, f, m]<br>\n",
        "&nbsp;&nbsp;&nbsp;&nbsp;[a, b, e, f] &nbsp;&nbsp;&nbsp;&nbsp;&nbsp;&nbsp;&nbsp;&nbsp;&nbsp;&nbsp;&nbsp;&nbsp;&nbsp;[a, b, e, f]<br>"
      ],
      "metadata": {
        "id": "35e75c62"
      }
    },
    {
      "cell_type": "code",
      "execution_count": null,
      "source": [
        "accuracy_comp = metrics.accuracy_score(match_diff0, [1]*len(match_diff0))\n",
        "f1_score_micro_comp = metrics.f1_score(match_diff0, [1]*len(match_diff0), average='micro')\n",
        "f1_score_macro_comp = metrics.f1_score(match_diff0, [1]*len(match_diff0), average='macro')\n",
        "print(f\"Accuracy Score = {accuracy_comp}\")\n",
        "print(f\"F1 Score (Micro) = {f1_score_micro_comp}\")\n",
        "print(f\"F1 Score (Macro) = {f1_score_macro_comp}\")"
      ],
      "outputs": [
        {
          "output_type": "stream",
          "name": "stdout",
          "text": [
            "Accuracy Score = 0.7385844748858448\n",
            "F1 Score (Micro) = 0.7385844748858447\n",
            "F1 Score (Macro) = 0.4248194353250164\n"
          ]
        }
      ],
      "metadata": {
        "colab": {
          "base_uri": "https://localhost:8080/"
        },
        "id": "06694af6",
        "outputId": "a29c80ad-023d-4706-a056-62a910270497"
      }
    },
    {
      "cell_type": "markdown",
      "source": [
        "# Performance metric if one label is misclassified\n",
        "* if there is at most one misclassification, prediction will be counted as correct<br>**For Example**<br>**Ground Truth**&nbsp;&nbsp;&nbsp;&nbsp;&nbsp;&nbsp;&nbsp;&nbsp;**Prediction** <br>\n",
        "&nbsp;&nbsp;&nbsp;&nbsp;[a, b] &nbsp;&nbsp;&nbsp;&nbsp;&nbsp;&nbsp;&nbsp;&nbsp;&nbsp;&nbsp;&nbsp;&nbsp;&nbsp;&nbsp;&nbsp;&nbsp;&nbsp;&nbsp;&nbsp;&nbsp;[a, c]<br>\n",
        "&nbsp;&nbsp;&nbsp;&nbsp;[g, f, l] &nbsp;&nbsp;&nbsp;&nbsp;&nbsp;&nbsp;&nbsp;&nbsp;&nbsp;&nbsp;&nbsp;&nbsp;&nbsp;&nbsp;&nbsp;&nbsp;   [g, f, m]<br>\n",
        "&nbsp;&nbsp;&nbsp;&nbsp;[a, b, k, f] &nbsp;&nbsp;&nbsp;&nbsp;&nbsp;&nbsp;&nbsp;&nbsp;&nbsp;&nbsp;&nbsp;&nbsp;&nbsp;[a, b, e, f]<br>"
      ],
      "metadata": {
        "id": "2f3037cb"
      }
    },
    {
      "cell_type": "code",
      "execution_count": null,
      "source": [
        "accuracy_miss1 = metrics.accuracy_score(match_diff1, [1]*len(match_diff1))\n",
        "f1_score_micro_miss1 = metrics.f1_score(match_diff1, [1]*len(match_diff1), average='micro')\n",
        "f1_score_macro_miss1 = metrics.f1_score(match_diff1, [1]*len(match_diff1), average='macro')\n",
        "print(f\"Accuracy Score = {accuracy_miss1}\")\n",
        "print(f\"F1 Score (Micro) = {f1_score_micro_miss1}\")\n",
        "print(f\"F1 Score (Macro) = {f1_score_macro_miss1}\")"
      ],
      "outputs": [
        {
          "output_type": "stream",
          "name": "stdout",
          "text": [
            "Accuracy Score = 0.8580669710806698\n",
            "F1 Score (Micro) = 0.8580669710806698\n",
            "F1 Score (Macro) = 0.4618062666393611\n"
          ]
        }
      ],
      "metadata": {
        "colab": {
          "base_uri": "https://localhost:8080/"
        },
        "id": "7048a533",
        "outputId": "efa9c0a4-ddf0-4cfd-d660-8782cfc26e94"
      }
    },
    {
      "cell_type": "markdown",
      "source": [
        "# Performance metric if two labels misclassified\n",
        "* If there is at most two misclassifications, prediction will be counted as correct<br>**For Example**<br>**Ground Truth**&nbsp;&nbsp;&nbsp;&nbsp;&nbsp;&nbsp;&nbsp;&nbsp;**Prediction** <br>\n",
        "&nbsp;&nbsp;&nbsp;&nbsp;[a, b, c,d] &nbsp;&nbsp;&nbsp;&nbsp;&nbsp;&nbsp;&nbsp;&nbsp;&nbsp;&nbsp;&nbsp;&nbsp;&nbsp;[a, b]<br>\n",
        "&nbsp;&nbsp;&nbsp;&nbsp;[g, j, k] &nbsp;&nbsp;&nbsp;&nbsp;&nbsp;&nbsp;&nbsp;&nbsp;&nbsp;&nbsp;&nbsp;&nbsp;&nbsp;&nbsp;&nbsp;&nbsp;&nbsp;[g, f, m]<br>\n",
        "&nbsp;&nbsp;&nbsp;&nbsp;[h, t, e, f] &nbsp;&nbsp;&nbsp;&nbsp;&nbsp;&nbsp;&nbsp;&nbsp;&nbsp;&nbsp;&nbsp;&nbsp;&nbsp;[a, b, e, f]<br>"
      ],
      "metadata": {
        "id": "84bcbc81"
      }
    },
    {
      "cell_type": "code",
      "execution_count": null,
      "source": [
        "accuracy_miss2 = metrics.accuracy_score(match_diff2, [1]*len(match_diff2))\n",
        "f1_score_micro_miss2 = metrics.f1_score(match_diff2, [1]*len(match_diff2), average='micro')\n",
        "f1_score_macro_miss2 = metrics.f1_score(match_diff2, [1]*len(match_diff2), average='macro')\n",
        "print(f\"Accuracy Score = {accuracy_miss2}\")\n",
        "print(f\"F1 Score (Micro) = {f1_score_micro_miss2}\")\n",
        "print(f\"F1 Score (Macro) = {f1_score_macro_miss2}\")"
      ],
      "outputs": [
        {
          "output_type": "stream",
          "name": "stdout",
          "text": [
            "Accuracy Score = 0.8812785388127854\n",
            "F1 Score (Micro) = 0.8812785388127854\n",
            "F1 Score (Macro) = 0.46844660194174753\n"
          ]
        }
      ],
      "metadata": {
        "colab": {
          "base_uri": "https://localhost:8080/"
        },
        "id": "ec5cc5d1",
        "outputId": "c765bf16-38ae-4554-ab51-6ed846727d2f"
      }
    },
    {
      "cell_type": "code",
      "execution_count": null,
      "source": [
        "performance_df = pd.DataFrame(index = ['Complete Match', 'One Misclassification', 'Two Misclassifications'],\\\n",
        "                              columns = ['Accuracy Score (%)', 'F1 Score (Macro)(%)'])\n",
        "performance_df.loc['Complete Match'] = [accuracy_comp, f1_score_macro_comp]\n",
        "performance_df.loc['One Misclassification'] = [accuracy_miss1, f1_score_macro_miss1]\n",
        "performance_df.loc['Two Misclassifications'] = [accuracy_miss2, f1_score_macro_miss2]\n",
        "\n"
      ],
      "outputs": [],
      "metadata": {
        "id": "0d65f25f"
      }
    },
    {
      "cell_type": "markdown",
      "source": [
        "# Model Performance Table"
      ],
      "metadata": {
        "id": "j44RcTGPWsL0"
      }
    },
    {
      "cell_type": "code",
      "execution_count": null,
      "source": [
        "performance_df.astype(float).round(4) * 100"
      ],
      "outputs": [
        {
          "output_type": "execute_result",
          "data": {
            "text/html": [
              "\n",
              "  <div id=\"df-a630be39-0af9-4caf-bd3e-6b6f3837f64d\">\n",
              "    <div class=\"colab-df-container\">\n",
              "      <div>\n",
              "<style scoped>\n",
              "    .dataframe tbody tr th:only-of-type {\n",
              "        vertical-align: middle;\n",
              "    }\n",
              "\n",
              "    .dataframe tbody tr th {\n",
              "        vertical-align: top;\n",
              "    }\n",
              "\n",
              "    .dataframe thead th {\n",
              "        text-align: right;\n",
              "    }\n",
              "</style>\n",
              "<table border=\"1\" class=\"dataframe\">\n",
              "  <thead>\n",
              "    <tr style=\"text-align: right;\">\n",
              "      <th></th>\n",
              "      <th>Accuracy Score (%)</th>\n",
              "      <th>F1 Score (Macro)(%)</th>\n",
              "    </tr>\n",
              "  </thead>\n",
              "  <tbody>\n",
              "    <tr>\n",
              "      <th>Complete Match</th>\n",
              "      <td>73.86</td>\n",
              "      <td>42.48</td>\n",
              "    </tr>\n",
              "    <tr>\n",
              "      <th>One Misclassification</th>\n",
              "      <td>85.81</td>\n",
              "      <td>46.18</td>\n",
              "    </tr>\n",
              "    <tr>\n",
              "      <th>Two Misclassifications</th>\n",
              "      <td>88.13</td>\n",
              "      <td>46.84</td>\n",
              "    </tr>\n",
              "  </tbody>\n",
              "</table>\n",
              "</div>\n",
              "      <button class=\"colab-df-convert\" onclick=\"convertToInteractive('df-a630be39-0af9-4caf-bd3e-6b6f3837f64d')\"\n",
              "              title=\"Convert this dataframe to an interactive table.\"\n",
              "              style=\"display:none;\">\n",
              "        \n",
              "  <svg xmlns=\"http://www.w3.org/2000/svg\" height=\"24px\"viewBox=\"0 0 24 24\"\n",
              "       width=\"24px\">\n",
              "    <path d=\"M0 0h24v24H0V0z\" fill=\"none\"/>\n",
              "    <path d=\"M18.56 5.44l.94 2.06.94-2.06 2.06-.94-2.06-.94-.94-2.06-.94 2.06-2.06.94zm-11 1L8.5 8.5l.94-2.06 2.06-.94-2.06-.94L8.5 2.5l-.94 2.06-2.06.94zm10 10l.94 2.06.94-2.06 2.06-.94-2.06-.94-.94-2.06-.94 2.06-2.06.94z\"/><path d=\"M17.41 7.96l-1.37-1.37c-.4-.4-.92-.59-1.43-.59-.52 0-1.04.2-1.43.59L10.3 9.45l-7.72 7.72c-.78.78-.78 2.05 0 2.83L4 21.41c.39.39.9.59 1.41.59.51 0 1.02-.2 1.41-.59l7.78-7.78 2.81-2.81c.8-.78.8-2.07 0-2.86zM5.41 20L4 18.59l7.72-7.72 1.47 1.35L5.41 20z\"/>\n",
              "  </svg>\n",
              "      </button>\n",
              "      \n",
              "  <style>\n",
              "    .colab-df-container {\n",
              "      display:flex;\n",
              "      flex-wrap:wrap;\n",
              "      gap: 12px;\n",
              "    }\n",
              "\n",
              "    .colab-df-convert {\n",
              "      background-color: #E8F0FE;\n",
              "      border: none;\n",
              "      border-radius: 50%;\n",
              "      cursor: pointer;\n",
              "      display: none;\n",
              "      fill: #1967D2;\n",
              "      height: 32px;\n",
              "      padding: 0 0 0 0;\n",
              "      width: 32px;\n",
              "    }\n",
              "\n",
              "    .colab-df-convert:hover {\n",
              "      background-color: #E2EBFA;\n",
              "      box-shadow: 0px 1px 2px rgba(60, 64, 67, 0.3), 0px 1px 3px 1px rgba(60, 64, 67, 0.15);\n",
              "      fill: #174EA6;\n",
              "    }\n",
              "\n",
              "    [theme=dark] .colab-df-convert {\n",
              "      background-color: #3B4455;\n",
              "      fill: #D2E3FC;\n",
              "    }\n",
              "\n",
              "    [theme=dark] .colab-df-convert:hover {\n",
              "      background-color: #434B5C;\n",
              "      box-shadow: 0px 1px 3px 1px rgba(0, 0, 0, 0.15);\n",
              "      filter: drop-shadow(0px 1px 2px rgba(0, 0, 0, 0.3));\n",
              "      fill: #FFFFFF;\n",
              "    }\n",
              "  </style>\n",
              "\n",
              "      <script>\n",
              "        const buttonEl =\n",
              "          document.querySelector('#df-a630be39-0af9-4caf-bd3e-6b6f3837f64d button.colab-df-convert');\n",
              "        buttonEl.style.display =\n",
              "          google.colab.kernel.accessAllowed ? 'block' : 'none';\n",
              "\n",
              "        async function convertToInteractive(key) {\n",
              "          const element = document.querySelector('#df-a630be39-0af9-4caf-bd3e-6b6f3837f64d');\n",
              "          const dataTable =\n",
              "            await google.colab.kernel.invokeFunction('convertToInteractive',\n",
              "                                                     [key], {});\n",
              "          if (!dataTable) return;\n",
              "\n",
              "          const docLinkHtml = 'Like what you see? Visit the ' +\n",
              "            '<a target=\"_blank\" href=https://colab.research.google.com/notebooks/data_table.ipynb>data table notebook</a>'\n",
              "            + ' to learn more about interactive tables.';\n",
              "          element.innerHTML = '';\n",
              "          dataTable['output_type'] = 'display_data';\n",
              "          await google.colab.output.renderOutput(dataTable, element);\n",
              "          const docLink = document.createElement('div');\n",
              "          docLink.innerHTML = docLinkHtml;\n",
              "          element.appendChild(docLink);\n",
              "        }\n",
              "      </script>\n",
              "    </div>\n",
              "  </div>\n",
              "  "
            ],
            "text/plain": [
              "                        Accuracy Score (%)  F1 Score (Macro)(%)\n",
              "Complete Match                       73.86                42.48\n",
              "One Misclassification                85.81                46.18\n",
              "Two Misclassifications               88.13                46.84"
            ]
          },
          "metadata": {},
          "execution_count": 53
        }
      ],
      "metadata": {
        "colab": {
          "base_uri": "https://localhost:8080/",
          "height": 143
        },
        "id": "wscD3PmdWvhm",
        "outputId": "c61d83d7-e9b3-44ce-ca75-99445db3d572"
      }
    },
    {
      "cell_type": "markdown",
      "source": [
        "# **Conclusion and Future Direction**\n",
        "\n",
        "As we can see from the macro F1 scores, and as Tran et al. found in their experiments, performance is not optimized in the classification task and it can be further improved upon. With a diffiuclt task like multi-label classification and with over 60 potential classes to predict, more information than just the job desciption may be required to achieve higher accuracy. An interesting next step could be to inculde additional data on the job such as: salary, skills required, and position level (intern, associate, executive, etc...). \n"
      ],
      "metadata": {
        "id": "7sVYtXdiVuzK"
      }
    },
    {
      "cell_type": "markdown",
      "source": [
        "# References:\n",
        "\n",
        "[1]  Tran, H. T., Vo, H. H. P., & Luu, S. T. (2021). Predicting Job Titles from Job Descriptions with Multi-label Text Classification. arXiv preprint arXiv:2112.11052.\n",
        "\n",
        "[2]  Lynch, J. (2017) An Analysis of Predicting Job Titles Using Job Descriptions, Masters Dissertation, Technological University Dublin.\n",
        "\n",
        "[3] Van Huynh, T., Van Nguyen, K., Nguyen, N. L. T., & Nguyen, A. G. T. (2020, October). Job prediction: From deep neural network models to applications. In 2020 RIVF International Conference on Computing and Communication Technologies (RIVF) (pp. 1-6). IEEE.\n",
        "\n",
        "[4] Bhola, A., Halder, K., Prasad, A., & Kan, M. Y. (2020, December). Retrieving skills from job descriptions: A language model based extreme multi-label classification framework. In Proceedings of the 28th International Conference on Computational Linguistics (pp. 5832-5842)."
      ],
      "metadata": {
        "id": "184C7aClVuzK"
      }
    }
  ],
  "metadata": {
    "kernelspec": {
      "display_name": "Python 3",
      "language": "python",
      "name": "python3"
    },
    "language_info": {
      "codemirror_mode": {
        "name": "ipython",
        "version": 3
      },
      "file_extension": ".py",
      "mimetype": "text/x-python",
      "name": "python",
      "nbconvert_exporter": "python",
      "pygments_lexer": "ipython3",
      "version": "3.7.3"
    },
    "colab": {
      "name": "Multi_Label_Classification_BERT.ipynb",
      "provenance": [],
      "collapsed_sections": []
    },
    "widgets": {
      "application/vnd.jupyter.widget-state+json": {
        "783e75bcb748483ca2e62ad3f49aaa99": {
          "model_module": "@jupyter-widgets/controls",
          "model_name": "HBoxModel",
          "model_module_version": "1.5.0",
          "state": {
            "_dom_classes": [],
            "_model_module": "@jupyter-widgets/controls",
            "_model_module_version": "1.5.0",
            "_model_name": "HBoxModel",
            "_view_count": null,
            "_view_module": "@jupyter-widgets/controls",
            "_view_module_version": "1.5.0",
            "_view_name": "HBoxView",
            "box_style": "",
            "children": [
              "IPY_MODEL_a8df38ea31c547d9a3e9e815f7af7e87",
              "IPY_MODEL_49a24026f91746a6923c8ac4f3fb78b3",
              "IPY_MODEL_31386462dcde4b29bda6adb831da9aba"
            ],
            "layout": "IPY_MODEL_b0d4443e80ed416ca223a943eed043ed"
          }
        },
        "a8df38ea31c547d9a3e9e815f7af7e87": {
          "model_module": "@jupyter-widgets/controls",
          "model_name": "HTMLModel",
          "model_module_version": "1.5.0",
          "state": {
            "_dom_classes": [],
            "_model_module": "@jupyter-widgets/controls",
            "_model_module_version": "1.5.0",
            "_model_name": "HTMLModel",
            "_view_count": null,
            "_view_module": "@jupyter-widgets/controls",
            "_view_module_version": "1.5.0",
            "_view_name": "HTMLView",
            "description": "",
            "description_tooltip": null,
            "layout": "IPY_MODEL_08ccd36197714d33a314a8c03f4d4df8",
            "placeholder": "​",
            "style": "IPY_MODEL_ad398a34e650495f8cf38bbe5d604db1",
            "value": "Downloading: 100%"
          }
        },
        "49a24026f91746a6923c8ac4f3fb78b3": {
          "model_module": "@jupyter-widgets/controls",
          "model_name": "FloatProgressModel",
          "model_module_version": "1.5.0",
          "state": {
            "_dom_classes": [],
            "_model_module": "@jupyter-widgets/controls",
            "_model_module_version": "1.5.0",
            "_model_name": "FloatProgressModel",
            "_view_count": null,
            "_view_module": "@jupyter-widgets/controls",
            "_view_module_version": "1.5.0",
            "_view_name": "ProgressView",
            "bar_style": "success",
            "description": "",
            "description_tooltip": null,
            "layout": "IPY_MODEL_32cb22d85d0a4f39b0f9135f8d097fdd",
            "max": 231508,
            "min": 0,
            "orientation": "horizontal",
            "style": "IPY_MODEL_f7fcad8319be4db0a7f8289ac90e8c34",
            "value": 231508
          }
        },
        "31386462dcde4b29bda6adb831da9aba": {
          "model_module": "@jupyter-widgets/controls",
          "model_name": "HTMLModel",
          "model_module_version": "1.5.0",
          "state": {
            "_dom_classes": [],
            "_model_module": "@jupyter-widgets/controls",
            "_model_module_version": "1.5.0",
            "_model_name": "HTMLModel",
            "_view_count": null,
            "_view_module": "@jupyter-widgets/controls",
            "_view_module_version": "1.5.0",
            "_view_name": "HTMLView",
            "description": "",
            "description_tooltip": null,
            "layout": "IPY_MODEL_6e45abc4804e441f9833f8909c98a99f",
            "placeholder": "​",
            "style": "IPY_MODEL_6e6da8ecd2cf4e089bd9f420b399155d",
            "value": " 226k/226k [00:00&lt;00:00, 4.76MB/s]"
          }
        },
        "b0d4443e80ed416ca223a943eed043ed": {
          "model_module": "@jupyter-widgets/base",
          "model_name": "LayoutModel",
          "model_module_version": "1.2.0",
          "state": {
            "_model_module": "@jupyter-widgets/base",
            "_model_module_version": "1.2.0",
            "_model_name": "LayoutModel",
            "_view_count": null,
            "_view_module": "@jupyter-widgets/base",
            "_view_module_version": "1.2.0",
            "_view_name": "LayoutView",
            "align_content": null,
            "align_items": null,
            "align_self": null,
            "border": null,
            "bottom": null,
            "display": null,
            "flex": null,
            "flex_flow": null,
            "grid_area": null,
            "grid_auto_columns": null,
            "grid_auto_flow": null,
            "grid_auto_rows": null,
            "grid_column": null,
            "grid_gap": null,
            "grid_row": null,
            "grid_template_areas": null,
            "grid_template_columns": null,
            "grid_template_rows": null,
            "height": null,
            "justify_content": null,
            "justify_items": null,
            "left": null,
            "margin": null,
            "max_height": null,
            "max_width": null,
            "min_height": null,
            "min_width": null,
            "object_fit": null,
            "object_position": null,
            "order": null,
            "overflow": null,
            "overflow_x": null,
            "overflow_y": null,
            "padding": null,
            "right": null,
            "top": null,
            "visibility": null,
            "width": null
          }
        },
        "08ccd36197714d33a314a8c03f4d4df8": {
          "model_module": "@jupyter-widgets/base",
          "model_name": "LayoutModel",
          "model_module_version": "1.2.0",
          "state": {
            "_model_module": "@jupyter-widgets/base",
            "_model_module_version": "1.2.0",
            "_model_name": "LayoutModel",
            "_view_count": null,
            "_view_module": "@jupyter-widgets/base",
            "_view_module_version": "1.2.0",
            "_view_name": "LayoutView",
            "align_content": null,
            "align_items": null,
            "align_self": null,
            "border": null,
            "bottom": null,
            "display": null,
            "flex": null,
            "flex_flow": null,
            "grid_area": null,
            "grid_auto_columns": null,
            "grid_auto_flow": null,
            "grid_auto_rows": null,
            "grid_column": null,
            "grid_gap": null,
            "grid_row": null,
            "grid_template_areas": null,
            "grid_template_columns": null,
            "grid_template_rows": null,
            "height": null,
            "justify_content": null,
            "justify_items": null,
            "left": null,
            "margin": null,
            "max_height": null,
            "max_width": null,
            "min_height": null,
            "min_width": null,
            "object_fit": null,
            "object_position": null,
            "order": null,
            "overflow": null,
            "overflow_x": null,
            "overflow_y": null,
            "padding": null,
            "right": null,
            "top": null,
            "visibility": null,
            "width": null
          }
        },
        "ad398a34e650495f8cf38bbe5d604db1": {
          "model_module": "@jupyter-widgets/controls",
          "model_name": "DescriptionStyleModel",
          "model_module_version": "1.5.0",
          "state": {
            "_model_module": "@jupyter-widgets/controls",
            "_model_module_version": "1.5.0",
            "_model_name": "DescriptionStyleModel",
            "_view_count": null,
            "_view_module": "@jupyter-widgets/base",
            "_view_module_version": "1.2.0",
            "_view_name": "StyleView",
            "description_width": ""
          }
        },
        "32cb22d85d0a4f39b0f9135f8d097fdd": {
          "model_module": "@jupyter-widgets/base",
          "model_name": "LayoutModel",
          "model_module_version": "1.2.0",
          "state": {
            "_model_module": "@jupyter-widgets/base",
            "_model_module_version": "1.2.0",
            "_model_name": "LayoutModel",
            "_view_count": null,
            "_view_module": "@jupyter-widgets/base",
            "_view_module_version": "1.2.0",
            "_view_name": "LayoutView",
            "align_content": null,
            "align_items": null,
            "align_self": null,
            "border": null,
            "bottom": null,
            "display": null,
            "flex": null,
            "flex_flow": null,
            "grid_area": null,
            "grid_auto_columns": null,
            "grid_auto_flow": null,
            "grid_auto_rows": null,
            "grid_column": null,
            "grid_gap": null,
            "grid_row": null,
            "grid_template_areas": null,
            "grid_template_columns": null,
            "grid_template_rows": null,
            "height": null,
            "justify_content": null,
            "justify_items": null,
            "left": null,
            "margin": null,
            "max_height": null,
            "max_width": null,
            "min_height": null,
            "min_width": null,
            "object_fit": null,
            "object_position": null,
            "order": null,
            "overflow": null,
            "overflow_x": null,
            "overflow_y": null,
            "padding": null,
            "right": null,
            "top": null,
            "visibility": null,
            "width": null
          }
        },
        "f7fcad8319be4db0a7f8289ac90e8c34": {
          "model_module": "@jupyter-widgets/controls",
          "model_name": "ProgressStyleModel",
          "model_module_version": "1.5.0",
          "state": {
            "_model_module": "@jupyter-widgets/controls",
            "_model_module_version": "1.5.0",
            "_model_name": "ProgressStyleModel",
            "_view_count": null,
            "_view_module": "@jupyter-widgets/base",
            "_view_module_version": "1.2.0",
            "_view_name": "StyleView",
            "bar_color": null,
            "description_width": ""
          }
        },
        "6e45abc4804e441f9833f8909c98a99f": {
          "model_module": "@jupyter-widgets/base",
          "model_name": "LayoutModel",
          "model_module_version": "1.2.0",
          "state": {
            "_model_module": "@jupyter-widgets/base",
            "_model_module_version": "1.2.0",
            "_model_name": "LayoutModel",
            "_view_count": null,
            "_view_module": "@jupyter-widgets/base",
            "_view_module_version": "1.2.0",
            "_view_name": "LayoutView",
            "align_content": null,
            "align_items": null,
            "align_self": null,
            "border": null,
            "bottom": null,
            "display": null,
            "flex": null,
            "flex_flow": null,
            "grid_area": null,
            "grid_auto_columns": null,
            "grid_auto_flow": null,
            "grid_auto_rows": null,
            "grid_column": null,
            "grid_gap": null,
            "grid_row": null,
            "grid_template_areas": null,
            "grid_template_columns": null,
            "grid_template_rows": null,
            "height": null,
            "justify_content": null,
            "justify_items": null,
            "left": null,
            "margin": null,
            "max_height": null,
            "max_width": null,
            "min_height": null,
            "min_width": null,
            "object_fit": null,
            "object_position": null,
            "order": null,
            "overflow": null,
            "overflow_x": null,
            "overflow_y": null,
            "padding": null,
            "right": null,
            "top": null,
            "visibility": null,
            "width": null
          }
        },
        "6e6da8ecd2cf4e089bd9f420b399155d": {
          "model_module": "@jupyter-widgets/controls",
          "model_name": "DescriptionStyleModel",
          "model_module_version": "1.5.0",
          "state": {
            "_model_module": "@jupyter-widgets/controls",
            "_model_module_version": "1.5.0",
            "_model_name": "DescriptionStyleModel",
            "_view_count": null,
            "_view_module": "@jupyter-widgets/base",
            "_view_module_version": "1.2.0",
            "_view_name": "StyleView",
            "description_width": ""
          }
        },
        "46429d94fe1848c99c82cffe42893da1": {
          "model_module": "@jupyter-widgets/controls",
          "model_name": "HBoxModel",
          "model_module_version": "1.5.0",
          "state": {
            "_dom_classes": [],
            "_model_module": "@jupyter-widgets/controls",
            "_model_module_version": "1.5.0",
            "_model_name": "HBoxModel",
            "_view_count": null,
            "_view_module": "@jupyter-widgets/controls",
            "_view_module_version": "1.5.0",
            "_view_name": "HBoxView",
            "box_style": "",
            "children": [
              "IPY_MODEL_f18886de20f3488ab7ee0a7957d24ac8",
              "IPY_MODEL_8c6c07c1eb16420ab7ece60963db1e71",
              "IPY_MODEL_a61551c502c34a8ea8b9760f50111193"
            ],
            "layout": "IPY_MODEL_ac92de7c6edc45879e0ef8034b27a28f"
          }
        },
        "f18886de20f3488ab7ee0a7957d24ac8": {
          "model_module": "@jupyter-widgets/controls",
          "model_name": "HTMLModel",
          "model_module_version": "1.5.0",
          "state": {
            "_dom_classes": [],
            "_model_module": "@jupyter-widgets/controls",
            "_model_module_version": "1.5.0",
            "_model_name": "HTMLModel",
            "_view_count": null,
            "_view_module": "@jupyter-widgets/controls",
            "_view_module_version": "1.5.0",
            "_view_name": "HTMLView",
            "description": "",
            "description_tooltip": null,
            "layout": "IPY_MODEL_f9679c4267db48978b7739eeac221e52",
            "placeholder": "​",
            "style": "IPY_MODEL_6d1729be966146ca9be746315564015c",
            "value": "Downloading: 100%"
          }
        },
        "8c6c07c1eb16420ab7ece60963db1e71": {
          "model_module": "@jupyter-widgets/controls",
          "model_name": "FloatProgressModel",
          "model_module_version": "1.5.0",
          "state": {
            "_dom_classes": [],
            "_model_module": "@jupyter-widgets/controls",
            "_model_module_version": "1.5.0",
            "_model_name": "FloatProgressModel",
            "_view_count": null,
            "_view_module": "@jupyter-widgets/controls",
            "_view_module_version": "1.5.0",
            "_view_name": "ProgressView",
            "bar_style": "success",
            "description": "",
            "description_tooltip": null,
            "layout": "IPY_MODEL_a9dc3bcab71241dfaba0763bf61965f8",
            "max": 28,
            "min": 0,
            "orientation": "horizontal",
            "style": "IPY_MODEL_a836cca033284986b2f8db29a734f03f",
            "value": 28
          }
        },
        "a61551c502c34a8ea8b9760f50111193": {
          "model_module": "@jupyter-widgets/controls",
          "model_name": "HTMLModel",
          "model_module_version": "1.5.0",
          "state": {
            "_dom_classes": [],
            "_model_module": "@jupyter-widgets/controls",
            "_model_module_version": "1.5.0",
            "_model_name": "HTMLModel",
            "_view_count": null,
            "_view_module": "@jupyter-widgets/controls",
            "_view_module_version": "1.5.0",
            "_view_name": "HTMLView",
            "description": "",
            "description_tooltip": null,
            "layout": "IPY_MODEL_a88a64c8781a4651af0e56819421415b",
            "placeholder": "​",
            "style": "IPY_MODEL_610f39bc5e234477a0ded5dbd0331c98",
            "value": " 28.0/28.0 [00:00&lt;00:00, 914B/s]"
          }
        },
        "ac92de7c6edc45879e0ef8034b27a28f": {
          "model_module": "@jupyter-widgets/base",
          "model_name": "LayoutModel",
          "model_module_version": "1.2.0",
          "state": {
            "_model_module": "@jupyter-widgets/base",
            "_model_module_version": "1.2.0",
            "_model_name": "LayoutModel",
            "_view_count": null,
            "_view_module": "@jupyter-widgets/base",
            "_view_module_version": "1.2.0",
            "_view_name": "LayoutView",
            "align_content": null,
            "align_items": null,
            "align_self": null,
            "border": null,
            "bottom": null,
            "display": null,
            "flex": null,
            "flex_flow": null,
            "grid_area": null,
            "grid_auto_columns": null,
            "grid_auto_flow": null,
            "grid_auto_rows": null,
            "grid_column": null,
            "grid_gap": null,
            "grid_row": null,
            "grid_template_areas": null,
            "grid_template_columns": null,
            "grid_template_rows": null,
            "height": null,
            "justify_content": null,
            "justify_items": null,
            "left": null,
            "margin": null,
            "max_height": null,
            "max_width": null,
            "min_height": null,
            "min_width": null,
            "object_fit": null,
            "object_position": null,
            "order": null,
            "overflow": null,
            "overflow_x": null,
            "overflow_y": null,
            "padding": null,
            "right": null,
            "top": null,
            "visibility": null,
            "width": null
          }
        },
        "f9679c4267db48978b7739eeac221e52": {
          "model_module": "@jupyter-widgets/base",
          "model_name": "LayoutModel",
          "model_module_version": "1.2.0",
          "state": {
            "_model_module": "@jupyter-widgets/base",
            "_model_module_version": "1.2.0",
            "_model_name": "LayoutModel",
            "_view_count": null,
            "_view_module": "@jupyter-widgets/base",
            "_view_module_version": "1.2.0",
            "_view_name": "LayoutView",
            "align_content": null,
            "align_items": null,
            "align_self": null,
            "border": null,
            "bottom": null,
            "display": null,
            "flex": null,
            "flex_flow": null,
            "grid_area": null,
            "grid_auto_columns": null,
            "grid_auto_flow": null,
            "grid_auto_rows": null,
            "grid_column": null,
            "grid_gap": null,
            "grid_row": null,
            "grid_template_areas": null,
            "grid_template_columns": null,
            "grid_template_rows": null,
            "height": null,
            "justify_content": null,
            "justify_items": null,
            "left": null,
            "margin": null,
            "max_height": null,
            "max_width": null,
            "min_height": null,
            "min_width": null,
            "object_fit": null,
            "object_position": null,
            "order": null,
            "overflow": null,
            "overflow_x": null,
            "overflow_y": null,
            "padding": null,
            "right": null,
            "top": null,
            "visibility": null,
            "width": null
          }
        },
        "6d1729be966146ca9be746315564015c": {
          "model_module": "@jupyter-widgets/controls",
          "model_name": "DescriptionStyleModel",
          "model_module_version": "1.5.0",
          "state": {
            "_model_module": "@jupyter-widgets/controls",
            "_model_module_version": "1.5.0",
            "_model_name": "DescriptionStyleModel",
            "_view_count": null,
            "_view_module": "@jupyter-widgets/base",
            "_view_module_version": "1.2.0",
            "_view_name": "StyleView",
            "description_width": ""
          }
        },
        "a9dc3bcab71241dfaba0763bf61965f8": {
          "model_module": "@jupyter-widgets/base",
          "model_name": "LayoutModel",
          "model_module_version": "1.2.0",
          "state": {
            "_model_module": "@jupyter-widgets/base",
            "_model_module_version": "1.2.0",
            "_model_name": "LayoutModel",
            "_view_count": null,
            "_view_module": "@jupyter-widgets/base",
            "_view_module_version": "1.2.0",
            "_view_name": "LayoutView",
            "align_content": null,
            "align_items": null,
            "align_self": null,
            "border": null,
            "bottom": null,
            "display": null,
            "flex": null,
            "flex_flow": null,
            "grid_area": null,
            "grid_auto_columns": null,
            "grid_auto_flow": null,
            "grid_auto_rows": null,
            "grid_column": null,
            "grid_gap": null,
            "grid_row": null,
            "grid_template_areas": null,
            "grid_template_columns": null,
            "grid_template_rows": null,
            "height": null,
            "justify_content": null,
            "justify_items": null,
            "left": null,
            "margin": null,
            "max_height": null,
            "max_width": null,
            "min_height": null,
            "min_width": null,
            "object_fit": null,
            "object_position": null,
            "order": null,
            "overflow": null,
            "overflow_x": null,
            "overflow_y": null,
            "padding": null,
            "right": null,
            "top": null,
            "visibility": null,
            "width": null
          }
        },
        "a836cca033284986b2f8db29a734f03f": {
          "model_module": "@jupyter-widgets/controls",
          "model_name": "ProgressStyleModel",
          "model_module_version": "1.5.0",
          "state": {
            "_model_module": "@jupyter-widgets/controls",
            "_model_module_version": "1.5.0",
            "_model_name": "ProgressStyleModel",
            "_view_count": null,
            "_view_module": "@jupyter-widgets/base",
            "_view_module_version": "1.2.0",
            "_view_name": "StyleView",
            "bar_color": null,
            "description_width": ""
          }
        },
        "a88a64c8781a4651af0e56819421415b": {
          "model_module": "@jupyter-widgets/base",
          "model_name": "LayoutModel",
          "model_module_version": "1.2.0",
          "state": {
            "_model_module": "@jupyter-widgets/base",
            "_model_module_version": "1.2.0",
            "_model_name": "LayoutModel",
            "_view_count": null,
            "_view_module": "@jupyter-widgets/base",
            "_view_module_version": "1.2.0",
            "_view_name": "LayoutView",
            "align_content": null,
            "align_items": null,
            "align_self": null,
            "border": null,
            "bottom": null,
            "display": null,
            "flex": null,
            "flex_flow": null,
            "grid_area": null,
            "grid_auto_columns": null,
            "grid_auto_flow": null,
            "grid_auto_rows": null,
            "grid_column": null,
            "grid_gap": null,
            "grid_row": null,
            "grid_template_areas": null,
            "grid_template_columns": null,
            "grid_template_rows": null,
            "height": null,
            "justify_content": null,
            "justify_items": null,
            "left": null,
            "margin": null,
            "max_height": null,
            "max_width": null,
            "min_height": null,
            "min_width": null,
            "object_fit": null,
            "object_position": null,
            "order": null,
            "overflow": null,
            "overflow_x": null,
            "overflow_y": null,
            "padding": null,
            "right": null,
            "top": null,
            "visibility": null,
            "width": null
          }
        },
        "610f39bc5e234477a0ded5dbd0331c98": {
          "model_module": "@jupyter-widgets/controls",
          "model_name": "DescriptionStyleModel",
          "model_module_version": "1.5.0",
          "state": {
            "_model_module": "@jupyter-widgets/controls",
            "_model_module_version": "1.5.0",
            "_model_name": "DescriptionStyleModel",
            "_view_count": null,
            "_view_module": "@jupyter-widgets/base",
            "_view_module_version": "1.2.0",
            "_view_name": "StyleView",
            "description_width": ""
          }
        },
        "e1bb07e1efc1486791525931ec36d7c8": {
          "model_module": "@jupyter-widgets/controls",
          "model_name": "HBoxModel",
          "model_module_version": "1.5.0",
          "state": {
            "_dom_classes": [],
            "_model_module": "@jupyter-widgets/controls",
            "_model_module_version": "1.5.0",
            "_model_name": "HBoxModel",
            "_view_count": null,
            "_view_module": "@jupyter-widgets/controls",
            "_view_module_version": "1.5.0",
            "_view_name": "HBoxView",
            "box_style": "",
            "children": [
              "IPY_MODEL_9531948d563a461c8944067128df2f24",
              "IPY_MODEL_47fbefee43cf4d819f005726d481405c",
              "IPY_MODEL_afd5c3084bd64c37b74215b19d5d013e"
            ],
            "layout": "IPY_MODEL_ae110a546c9f4b9e90caceae9d63b5a9"
          }
        },
        "9531948d563a461c8944067128df2f24": {
          "model_module": "@jupyter-widgets/controls",
          "model_name": "HTMLModel",
          "model_module_version": "1.5.0",
          "state": {
            "_dom_classes": [],
            "_model_module": "@jupyter-widgets/controls",
            "_model_module_version": "1.5.0",
            "_model_name": "HTMLModel",
            "_view_count": null,
            "_view_module": "@jupyter-widgets/controls",
            "_view_module_version": "1.5.0",
            "_view_name": "HTMLView",
            "description": "",
            "description_tooltip": null,
            "layout": "IPY_MODEL_7b7de80e97494a3987ca8e46e8e58524",
            "placeholder": "​",
            "style": "IPY_MODEL_7b17626217484667b20e66f11b56110d",
            "value": "Downloading: 100%"
          }
        },
        "47fbefee43cf4d819f005726d481405c": {
          "model_module": "@jupyter-widgets/controls",
          "model_name": "FloatProgressModel",
          "model_module_version": "1.5.0",
          "state": {
            "_dom_classes": [],
            "_model_module": "@jupyter-widgets/controls",
            "_model_module_version": "1.5.0",
            "_model_name": "FloatProgressModel",
            "_view_count": null,
            "_view_module": "@jupyter-widgets/controls",
            "_view_module_version": "1.5.0",
            "_view_name": "ProgressView",
            "bar_style": "success",
            "description": "",
            "description_tooltip": null,
            "layout": "IPY_MODEL_95b00fc274a64c3a8d454214437a4096",
            "max": 570,
            "min": 0,
            "orientation": "horizontal",
            "style": "IPY_MODEL_5cdf08bd80e249d3bc0c1e32fc0bdf95",
            "value": 570
          }
        },
        "afd5c3084bd64c37b74215b19d5d013e": {
          "model_module": "@jupyter-widgets/controls",
          "model_name": "HTMLModel",
          "model_module_version": "1.5.0",
          "state": {
            "_dom_classes": [],
            "_model_module": "@jupyter-widgets/controls",
            "_model_module_version": "1.5.0",
            "_model_name": "HTMLModel",
            "_view_count": null,
            "_view_module": "@jupyter-widgets/controls",
            "_view_module_version": "1.5.0",
            "_view_name": "HTMLView",
            "description": "",
            "description_tooltip": null,
            "layout": "IPY_MODEL_5016f497a1294d588be230aefa6446f2",
            "placeholder": "​",
            "style": "IPY_MODEL_771a358af4134c61b5a9d494711f764f",
            "value": " 570/570 [00:00&lt;00:00, 19.7kB/s]"
          }
        },
        "ae110a546c9f4b9e90caceae9d63b5a9": {
          "model_module": "@jupyter-widgets/base",
          "model_name": "LayoutModel",
          "model_module_version": "1.2.0",
          "state": {
            "_model_module": "@jupyter-widgets/base",
            "_model_module_version": "1.2.0",
            "_model_name": "LayoutModel",
            "_view_count": null,
            "_view_module": "@jupyter-widgets/base",
            "_view_module_version": "1.2.0",
            "_view_name": "LayoutView",
            "align_content": null,
            "align_items": null,
            "align_self": null,
            "border": null,
            "bottom": null,
            "display": null,
            "flex": null,
            "flex_flow": null,
            "grid_area": null,
            "grid_auto_columns": null,
            "grid_auto_flow": null,
            "grid_auto_rows": null,
            "grid_column": null,
            "grid_gap": null,
            "grid_row": null,
            "grid_template_areas": null,
            "grid_template_columns": null,
            "grid_template_rows": null,
            "height": null,
            "justify_content": null,
            "justify_items": null,
            "left": null,
            "margin": null,
            "max_height": null,
            "max_width": null,
            "min_height": null,
            "min_width": null,
            "object_fit": null,
            "object_position": null,
            "order": null,
            "overflow": null,
            "overflow_x": null,
            "overflow_y": null,
            "padding": null,
            "right": null,
            "top": null,
            "visibility": null,
            "width": null
          }
        },
        "7b7de80e97494a3987ca8e46e8e58524": {
          "model_module": "@jupyter-widgets/base",
          "model_name": "LayoutModel",
          "model_module_version": "1.2.0",
          "state": {
            "_model_module": "@jupyter-widgets/base",
            "_model_module_version": "1.2.0",
            "_model_name": "LayoutModel",
            "_view_count": null,
            "_view_module": "@jupyter-widgets/base",
            "_view_module_version": "1.2.0",
            "_view_name": "LayoutView",
            "align_content": null,
            "align_items": null,
            "align_self": null,
            "border": null,
            "bottom": null,
            "display": null,
            "flex": null,
            "flex_flow": null,
            "grid_area": null,
            "grid_auto_columns": null,
            "grid_auto_flow": null,
            "grid_auto_rows": null,
            "grid_column": null,
            "grid_gap": null,
            "grid_row": null,
            "grid_template_areas": null,
            "grid_template_columns": null,
            "grid_template_rows": null,
            "height": null,
            "justify_content": null,
            "justify_items": null,
            "left": null,
            "margin": null,
            "max_height": null,
            "max_width": null,
            "min_height": null,
            "min_width": null,
            "object_fit": null,
            "object_position": null,
            "order": null,
            "overflow": null,
            "overflow_x": null,
            "overflow_y": null,
            "padding": null,
            "right": null,
            "top": null,
            "visibility": null,
            "width": null
          }
        },
        "7b17626217484667b20e66f11b56110d": {
          "model_module": "@jupyter-widgets/controls",
          "model_name": "DescriptionStyleModel",
          "model_module_version": "1.5.0",
          "state": {
            "_model_module": "@jupyter-widgets/controls",
            "_model_module_version": "1.5.0",
            "_model_name": "DescriptionStyleModel",
            "_view_count": null,
            "_view_module": "@jupyter-widgets/base",
            "_view_module_version": "1.2.0",
            "_view_name": "StyleView",
            "description_width": ""
          }
        },
        "95b00fc274a64c3a8d454214437a4096": {
          "model_module": "@jupyter-widgets/base",
          "model_name": "LayoutModel",
          "model_module_version": "1.2.0",
          "state": {
            "_model_module": "@jupyter-widgets/base",
            "_model_module_version": "1.2.0",
            "_model_name": "LayoutModel",
            "_view_count": null,
            "_view_module": "@jupyter-widgets/base",
            "_view_module_version": "1.2.0",
            "_view_name": "LayoutView",
            "align_content": null,
            "align_items": null,
            "align_self": null,
            "border": null,
            "bottom": null,
            "display": null,
            "flex": null,
            "flex_flow": null,
            "grid_area": null,
            "grid_auto_columns": null,
            "grid_auto_flow": null,
            "grid_auto_rows": null,
            "grid_column": null,
            "grid_gap": null,
            "grid_row": null,
            "grid_template_areas": null,
            "grid_template_columns": null,
            "grid_template_rows": null,
            "height": null,
            "justify_content": null,
            "justify_items": null,
            "left": null,
            "margin": null,
            "max_height": null,
            "max_width": null,
            "min_height": null,
            "min_width": null,
            "object_fit": null,
            "object_position": null,
            "order": null,
            "overflow": null,
            "overflow_x": null,
            "overflow_y": null,
            "padding": null,
            "right": null,
            "top": null,
            "visibility": null,
            "width": null
          }
        },
        "5cdf08bd80e249d3bc0c1e32fc0bdf95": {
          "model_module": "@jupyter-widgets/controls",
          "model_name": "ProgressStyleModel",
          "model_module_version": "1.5.0",
          "state": {
            "_model_module": "@jupyter-widgets/controls",
            "_model_module_version": "1.5.0",
            "_model_name": "ProgressStyleModel",
            "_view_count": null,
            "_view_module": "@jupyter-widgets/base",
            "_view_module_version": "1.2.0",
            "_view_name": "StyleView",
            "bar_color": null,
            "description_width": ""
          }
        },
        "5016f497a1294d588be230aefa6446f2": {
          "model_module": "@jupyter-widgets/base",
          "model_name": "LayoutModel",
          "model_module_version": "1.2.0",
          "state": {
            "_model_module": "@jupyter-widgets/base",
            "_model_module_version": "1.2.0",
            "_model_name": "LayoutModel",
            "_view_count": null,
            "_view_module": "@jupyter-widgets/base",
            "_view_module_version": "1.2.0",
            "_view_name": "LayoutView",
            "align_content": null,
            "align_items": null,
            "align_self": null,
            "border": null,
            "bottom": null,
            "display": null,
            "flex": null,
            "flex_flow": null,
            "grid_area": null,
            "grid_auto_columns": null,
            "grid_auto_flow": null,
            "grid_auto_rows": null,
            "grid_column": null,
            "grid_gap": null,
            "grid_row": null,
            "grid_template_areas": null,
            "grid_template_columns": null,
            "grid_template_rows": null,
            "height": null,
            "justify_content": null,
            "justify_items": null,
            "left": null,
            "margin": null,
            "max_height": null,
            "max_width": null,
            "min_height": null,
            "min_width": null,
            "object_fit": null,
            "object_position": null,
            "order": null,
            "overflow": null,
            "overflow_x": null,
            "overflow_y": null,
            "padding": null,
            "right": null,
            "top": null,
            "visibility": null,
            "width": null
          }
        },
        "771a358af4134c61b5a9d494711f764f": {
          "model_module": "@jupyter-widgets/controls",
          "model_name": "DescriptionStyleModel",
          "model_module_version": "1.5.0",
          "state": {
            "_model_module": "@jupyter-widgets/controls",
            "_model_module_version": "1.5.0",
            "_model_name": "DescriptionStyleModel",
            "_view_count": null,
            "_view_module": "@jupyter-widgets/base",
            "_view_module_version": "1.2.0",
            "_view_name": "StyleView",
            "description_width": ""
          }
        }
      }
    },
    "accelerator": "GPU"
  },
  "nbformat": 4,
  "nbformat_minor": 2
}