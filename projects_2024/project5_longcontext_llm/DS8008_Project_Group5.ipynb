{
  "nbformat": 4,
  "nbformat_minor": 0,
  "metadata": {
    "colab": {
      "provenance": [],
      "gpuType": "A100",
      "machine_shape": "hm"
    },
    "kernelspec": {
      "name": "python3",
      "display_name": "Python 3"
    },
    "language_info": {
      "name": "python"
    },
    "accelerator": "GPU",
    "widgets": {
      "application/vnd.jupyter.widget-state+json": {
        "ca0a388750b64de68a7a17de2ad6ea9e": {
          "model_module": "@jupyter-widgets/controls",
          "model_name": "HBoxModel",
          "model_module_version": "1.5.0",
          "state": {
            "_dom_classes": [],
            "_model_module": "@jupyter-widgets/controls",
            "_model_module_version": "1.5.0",
            "_model_name": "HBoxModel",
            "_view_count": null,
            "_view_module": "@jupyter-widgets/controls",
            "_view_module_version": "1.5.0",
            "_view_name": "HBoxView",
            "box_style": "",
            "children": [
              "IPY_MODEL_240c55d3241c41e782a2bd63a5ef69af",
              "IPY_MODEL_f609c3fad68649159d88644f4bb392a1",
              "IPY_MODEL_5dfa32e8bdd443d2b7ff6c2440e3f57f"
            ],
            "layout": "IPY_MODEL_9707a091a6c741348db14de184c293fb"
          }
        },
        "240c55d3241c41e782a2bd63a5ef69af": {
          "model_module": "@jupyter-widgets/controls",
          "model_name": "HTMLModel",
          "model_module_version": "1.5.0",
          "state": {
            "_dom_classes": [],
            "_model_module": "@jupyter-widgets/controls",
            "_model_module_version": "1.5.0",
            "_model_name": "HTMLModel",
            "_view_count": null,
            "_view_module": "@jupyter-widgets/controls",
            "_view_module_version": "1.5.0",
            "_view_name": "HTMLView",
            "description": "",
            "description_tooltip": null,
            "layout": "IPY_MODEL_c187d5b87c1e4dcaad27779b4451e6ba",
            "placeholder": "​",
            "style": "IPY_MODEL_72166d9dbd3d41cd904b0cbf8c5b62b4",
            "value": "Loading checkpoint shards: 100%"
          }
        },
        "f609c3fad68649159d88644f4bb392a1": {
          "model_module": "@jupyter-widgets/controls",
          "model_name": "FloatProgressModel",
          "model_module_version": "1.5.0",
          "state": {
            "_dom_classes": [],
            "_model_module": "@jupyter-widgets/controls",
            "_model_module_version": "1.5.0",
            "_model_name": "FloatProgressModel",
            "_view_count": null,
            "_view_module": "@jupyter-widgets/controls",
            "_view_module_version": "1.5.0",
            "_view_name": "ProgressView",
            "bar_style": "success",
            "description": "",
            "description_tooltip": null,
            "layout": "IPY_MODEL_b844649f0a3e467e8a0cc1bfbd66fe78",
            "max": 2,
            "min": 0,
            "orientation": "horizontal",
            "style": "IPY_MODEL_29a04aa2c25b43438a2ea1ee1f1d4fc9",
            "value": 2
          }
        },
        "5dfa32e8bdd443d2b7ff6c2440e3f57f": {
          "model_module": "@jupyter-widgets/controls",
          "model_name": "HTMLModel",
          "model_module_version": "1.5.0",
          "state": {
            "_dom_classes": [],
            "_model_module": "@jupyter-widgets/controls",
            "_model_module_version": "1.5.0",
            "_model_name": "HTMLModel",
            "_view_count": null,
            "_view_module": "@jupyter-widgets/controls",
            "_view_module_version": "1.5.0",
            "_view_name": "HTMLView",
            "description": "",
            "description_tooltip": null,
            "layout": "IPY_MODEL_28e9d4121acd4efda12abdbe357a4868",
            "placeholder": "​",
            "style": "IPY_MODEL_84b59788f5804ea899ee6228ff777ee1",
            "value": " 2/2 [00:06&lt;00:00,  3.03s/it]"
          }
        },
        "9707a091a6c741348db14de184c293fb": {
          "model_module": "@jupyter-widgets/base",
          "model_name": "LayoutModel",
          "model_module_version": "1.2.0",
          "state": {
            "_model_module": "@jupyter-widgets/base",
            "_model_module_version": "1.2.0",
            "_model_name": "LayoutModel",
            "_view_count": null,
            "_view_module": "@jupyter-widgets/base",
            "_view_module_version": "1.2.0",
            "_view_name": "LayoutView",
            "align_content": null,
            "align_items": null,
            "align_self": null,
            "border": null,
            "bottom": null,
            "display": null,
            "flex": null,
            "flex_flow": null,
            "grid_area": null,
            "grid_auto_columns": null,
            "grid_auto_flow": null,
            "grid_auto_rows": null,
            "grid_column": null,
            "grid_gap": null,
            "grid_row": null,
            "grid_template_areas": null,
            "grid_template_columns": null,
            "grid_template_rows": null,
            "height": null,
            "justify_content": null,
            "justify_items": null,
            "left": null,
            "margin": null,
            "max_height": null,
            "max_width": null,
            "min_height": null,
            "min_width": null,
            "object_fit": null,
            "object_position": null,
            "order": null,
            "overflow": null,
            "overflow_x": null,
            "overflow_y": null,
            "padding": null,
            "right": null,
            "top": null,
            "visibility": null,
            "width": null
          }
        },
        "c187d5b87c1e4dcaad27779b4451e6ba": {
          "model_module": "@jupyter-widgets/base",
          "model_name": "LayoutModel",
          "model_module_version": "1.2.0",
          "state": {
            "_model_module": "@jupyter-widgets/base",
            "_model_module_version": "1.2.0",
            "_model_name": "LayoutModel",
            "_view_count": null,
            "_view_module": "@jupyter-widgets/base",
            "_view_module_version": "1.2.0",
            "_view_name": "LayoutView",
            "align_content": null,
            "align_items": null,
            "align_self": null,
            "border": null,
            "bottom": null,
            "display": null,
            "flex": null,
            "flex_flow": null,
            "grid_area": null,
            "grid_auto_columns": null,
            "grid_auto_flow": null,
            "grid_auto_rows": null,
            "grid_column": null,
            "grid_gap": null,
            "grid_row": null,
            "grid_template_areas": null,
            "grid_template_columns": null,
            "grid_template_rows": null,
            "height": null,
            "justify_content": null,
            "justify_items": null,
            "left": null,
            "margin": null,
            "max_height": null,
            "max_width": null,
            "min_height": null,
            "min_width": null,
            "object_fit": null,
            "object_position": null,
            "order": null,
            "overflow": null,
            "overflow_x": null,
            "overflow_y": null,
            "padding": null,
            "right": null,
            "top": null,
            "visibility": null,
            "width": null
          }
        },
        "72166d9dbd3d41cd904b0cbf8c5b62b4": {
          "model_module": "@jupyter-widgets/controls",
          "model_name": "DescriptionStyleModel",
          "model_module_version": "1.5.0",
          "state": {
            "_model_module": "@jupyter-widgets/controls",
            "_model_module_version": "1.5.0",
            "_model_name": "DescriptionStyleModel",
            "_view_count": null,
            "_view_module": "@jupyter-widgets/base",
            "_view_module_version": "1.2.0",
            "_view_name": "StyleView",
            "description_width": ""
          }
        },
        "b844649f0a3e467e8a0cc1bfbd66fe78": {
          "model_module": "@jupyter-widgets/base",
          "model_name": "LayoutModel",
          "model_module_version": "1.2.0",
          "state": {
            "_model_module": "@jupyter-widgets/base",
            "_model_module_version": "1.2.0",
            "_model_name": "LayoutModel",
            "_view_count": null,
            "_view_module": "@jupyter-widgets/base",
            "_view_module_version": "1.2.0",
            "_view_name": "LayoutView",
            "align_content": null,
            "align_items": null,
            "align_self": null,
            "border": null,
            "bottom": null,
            "display": null,
            "flex": null,
            "flex_flow": null,
            "grid_area": null,
            "grid_auto_columns": null,
            "grid_auto_flow": null,
            "grid_auto_rows": null,
            "grid_column": null,
            "grid_gap": null,
            "grid_row": null,
            "grid_template_areas": null,
            "grid_template_columns": null,
            "grid_template_rows": null,
            "height": null,
            "justify_content": null,
            "justify_items": null,
            "left": null,
            "margin": null,
            "max_height": null,
            "max_width": null,
            "min_height": null,
            "min_width": null,
            "object_fit": null,
            "object_position": null,
            "order": null,
            "overflow": null,
            "overflow_x": null,
            "overflow_y": null,
            "padding": null,
            "right": null,
            "top": null,
            "visibility": null,
            "width": null
          }
        },
        "29a04aa2c25b43438a2ea1ee1f1d4fc9": {
          "model_module": "@jupyter-widgets/controls",
          "model_name": "ProgressStyleModel",
          "model_module_version": "1.5.0",
          "state": {
            "_model_module": "@jupyter-widgets/controls",
            "_model_module_version": "1.5.0",
            "_model_name": "ProgressStyleModel",
            "_view_count": null,
            "_view_module": "@jupyter-widgets/base",
            "_view_module_version": "1.2.0",
            "_view_name": "StyleView",
            "bar_color": null,
            "description_width": ""
          }
        },
        "28e9d4121acd4efda12abdbe357a4868": {
          "model_module": "@jupyter-widgets/base",
          "model_name": "LayoutModel",
          "model_module_version": "1.2.0",
          "state": {
            "_model_module": "@jupyter-widgets/base",
            "_model_module_version": "1.2.0",
            "_model_name": "LayoutModel",
            "_view_count": null,
            "_view_module": "@jupyter-widgets/base",
            "_view_module_version": "1.2.0",
            "_view_name": "LayoutView",
            "align_content": null,
            "align_items": null,
            "align_self": null,
            "border": null,
            "bottom": null,
            "display": null,
            "flex": null,
            "flex_flow": null,
            "grid_area": null,
            "grid_auto_columns": null,
            "grid_auto_flow": null,
            "grid_auto_rows": null,
            "grid_column": null,
            "grid_gap": null,
            "grid_row": null,
            "grid_template_areas": null,
            "grid_template_columns": null,
            "grid_template_rows": null,
            "height": null,
            "justify_content": null,
            "justify_items": null,
            "left": null,
            "margin": null,
            "max_height": null,
            "max_width": null,
            "min_height": null,
            "min_width": null,
            "object_fit": null,
            "object_position": null,
            "order": null,
            "overflow": null,
            "overflow_x": null,
            "overflow_y": null,
            "padding": null,
            "right": null,
            "top": null,
            "visibility": null,
            "width": null
          }
        },
        "84b59788f5804ea899ee6228ff777ee1": {
          "model_module": "@jupyter-widgets/controls",
          "model_name": "DescriptionStyleModel",
          "model_module_version": "1.5.0",
          "state": {
            "_model_module": "@jupyter-widgets/controls",
            "_model_module_version": "1.5.0",
            "_model_name": "DescriptionStyleModel",
            "_view_count": null,
            "_view_module": "@jupyter-widgets/base",
            "_view_module_version": "1.2.0",
            "_view_name": "StyleView",
            "description_width": ""
          }
        }
      }
    }
  },
  "cells": [
    {
      "cell_type": "markdown",
      "source": [
        "# **Title: Training-Free Long-Context Scaling of Large Language Models**\n",
        "###Group Members' Names: Bardia Dehbasti and Anthony Valenti\n",
        "###Group Members' Emails: bardia.dehbasti@torontomu.ca, anthony.valenti@torontomu.ca"
      ],
      "metadata": {
        "id": "kCd3bNMiGoJO"
      }
    },
    {
      "cell_type": "markdown",
      "source": [
        "# **Introduction**\n",
        "## Problem Description:\n",
        "Large Language Models (LLMs) are currently going through a great period of growth, achieving stronger and more impressive results seemingly every month. However, the effectiveness of currently available models decreases as the number of input tokens, or context length, increases. Popular open source LLMs such as LLama2 7B support a maximum context length of 4096 tokens, without any fine-tuning. Presented in this study is an implementation of the Dual Chunk Attention algorithm, which enables LLama2 7B to handle a maximum context length of more than 32k tokens, requiring no additional training. The proposed method increases the context length by 8x the orginal tokens.\n",
        "\n",
        "## Context of the Problem:\n",
        "With the rise in popularity of LLMs, consumers and businesses alike have been exploring a wide variety of use cases. Specific use cases, such as interacting with large amounts of documents, text, code, or extended conversations, are limited by the maximum context length of the model. One solution to combat this problem is to fine-tune a pre-trained model on longer sequences of tokens. However, this creates a new problem in both access to sufficient training data and the associated time/cost constraints of fine-tuning a model. The proposed Dual Chunk Attention algorithm solves both of these problems by achieving a longer context length while avoiding the necessary data and costs associated with fine-tuning.\n",
        "\n",
        "## Limitations of Past Approaches:\n",
        "\n",
        "In similar past approaches to challenge language models beyond short-context, Pang et al, 2022 [2], in his research paper the authors created a QuALITY dataset to challenge language models on long-document comprehension, using the input dataset of English passages of 2k to 8k tokens. They created questions that needed understanding of the whole document to answer, however they found their model to be ineffective in processing long texts and in turn, thier model resulted in poor performance.\n",
        "\n",
        "## Solution:\n",
        "In this proposed solution, Dual Chunk Attention (DCA) is introduced to overcome large language model incapabilites to to process long context, without needing additional training. With this approach limitatoins of input tokens of long contexts exceeding pre-training lengths is overcomed. This is achieved by dividing the context into three parts, namely intra-chunk, inter-chunk, and successive chunk attention, which allows LLMs to manage longer sequences of text. This method does not require any additional fine-tuning or training which shows effeciency of this method.\n"
      ],
      "metadata": {
        "id": "H3Rakv-fHbFy"
      }
    },
    {
      "cell_type": "markdown",
      "source": [
        "# **Background**\n",
        "\n",
        "| Reference |Explanation |  Dataset/Input |Weakness\n",
        "| --- | --- | --- | --- |\n",
        "| An et al. [1] | Proposed Dual Chunk Attention (DCA), which enables LLMs to support context windows of more than 8x the training length without fine-tuning|  book corpus dataset PG19, NarrativeQA, QMSum, and more| 32K context window on LLama2 7B only achievable with 2xA100 GPUs |\n",
        "| Pang et al. [2] |\tDeveloped a multiple-choice QA dataset with passages up to 8k tokens to challenge long-context language models  | \tQuALITY dataset with English passages from 2k to 8k tokens |\tBaseline models performed poorly, highlighting difficulty in processing long texts effectively |"
      ],
      "metadata": {
        "id": "HgdFCK0cZGzQ"
      }
    },
    {
      "cell_type": "markdown",
      "source": [
        "# **Methodology**\n",
        "\n",
        "- Intra-chunk attention is used to seperate input suequnces into smaller chunks\n",
        "  - Intra-chunk attention will assign attention for tokens within the same chunks\n",
        "  - Intra-chunk works by seperating position indices for queries and keys according to the formula $$P_qIntra = P_k =[0,1,...,l−1] mod s $$ where s is the tokens in each chunk\n",
        "  - Position matrix M for intra-chunk is then defined as $$M[i][j]=P_qIntra[i]-P_k[j]$$\n",
        "- Inter-chunk attention is used to assign attention between different chunks\n",
        "  - The indices are initially set as c-1, where c is the maximum context length LLamma2 was trained on\n",
        "  - For different chunks attention is then assigned using the matrix M according to the formula $$M[i][j]=P_qIntra[i]-P_k[j]=c-1-P_k[j] ≥ c-s.$$\n",
        "- A succesive attention calculation is used to preserve attention between neighboring tokens (which have a high correlation in predicting the next token)\n",
        "  - The equation for succesive attention is $$P_qSucc =[s,s+1,...,s+w−1,c−1,...,c−1], w=c-s$$\n",
        "- This results in the final relative position matrix M $$\n",
        "M[i][j] =\n",
        "\\begin{cases}\n",
        "P_qIntra[i]-P_k[j], & \\text{if } [i/s] -[j/s] = 0\\\\\n",
        "P_qSucc[i]-P_k[j], & \\text{if } [i/s] -[j/s] = 1\\\\\n",
        "P_qInter[i]-P_k[j], & \\text{if } [i/s] -[j/s] > 1\\\\\n",
        "\\end{cases}\n",
        "$$\n",
        "\n",
        "- Inner product of queries and keys q,k are calculated as\n",
        "$$\n",
        "q_i^Tk_j =\n",
        "\\begin{cases}\n",
        "f(q,P_qIntra[i])^Tf(k,P_k[j]), & \\text{if } [i/s] -[j/s] = 0\\\\\n",
        "f(q,P_qSucc[i])^Tf(k,P_k[j]), & \\text{if } [i/s] -[j/s] = 1\\\\\n",
        "f(q,P_qInter[i])^Tf(k,P_k[j]), & \\text{if } [i/s] -[j/s] > 1\\\\\n",
        "\\end{cases}\n",
        "$$\n",
        "\n",
        "- Inner product calculations are normalized using softmax and dimensions of LLama2 hidden states d\n",
        "\n",
        "$$p_i=softmax([\\frac{q_i^Tk_0}{\\sqrt{d}},\\frac{q_i^Tk_1}{\\sqrt{d}},...\\frac{q_i^Tk_i}{\\sqrt{d}} ])$$\n",
        "\n",
        "- Utilizing this algorithm with LLama2 7B allows us to achieve a context length of 16K tokens on an A100 GPU with 40GB of memory.\n",
        "\n",
        "- The effectivness of DCA will be tested by uploading a large paper as context to \"chat\" with the PDF.\n",
        "\n",
        "- Passkey retrieval is also used to test if LLama2 can identify a provided passkey surrounded by 16K tokens of random text.\n",
        "\n",
        "\n",
        "\n"
      ],
      "metadata": {
        "id": "0fyYrv1UjNFT"
      }
    },
    {
      "cell_type": "markdown",
      "source": [
        "## Perplexity Results of different models VS LLama2 with DCA (CHUNKLLAMA2)"
      ],
      "metadata": {
        "id": "4hNV0MjMwnLd"
      }
    },
    {
      "cell_type": "markdown",
      "source": [
        "Results of perplexity from PG19 validation dataset, where lower score means better performance. When evaluating on a 16k context-length, Llama2-7B with DCA (ChunkLlama2) performs better or equal to comparable fine-tuned models.\n",
        "\n",
        "![Screenshot 2024-03-28 at 11.47.56 AM.png](data:image/png;base64,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)"
      ],
      "metadata": {
        "id": "7GyWKV8twiEH"
      }
    },
    {
      "cell_type": "markdown",
      "source": [
        "# **Implementation**"
      ],
      "metadata": {
        "id": "dSyNg9xZjUTi"
      }
    },
    {
      "cell_type": "markdown",
      "source": [
        "## Imports"
      ],
      "metadata": {
        "id": "1AlQyInx2JlR"
      }
    },
    {
      "cell_type": "code",
      "execution_count": null,
      "metadata": {
        "id": "l-psA7iqGgtv"
      },
      "outputs": [],
      "source": [
        "!pip install transformers==4.37.0\n",
        "!pip install torch>=2.0.0\n",
        "!pip install deepspeed==0.14.0\n",
        "!pip install sentencepiece>=0.1.99\n",
        "!pip install tokenizers>=0.14.0\n",
        "!pip install accelerate>=0.23.0\n",
        "!pip install flash-attn>=2.5.0 --no-build-isolation\n",
        "!pip install PyMuPDF"
      ]
    },
    {
      "cell_type": "markdown",
      "source": [
        "## Dual Chunk Attention Implementation\n",
        "\n",
        "- This code modifies the LLama2 architecture to seperate large input sequences into smaller chunks, according to the algorithm for DCA described above.\n",
        "\n",
        "\n",
        "- In the code below, the inner product (dot product) is done using cosine similarity"
      ],
      "metadata": {
        "id": "1YE1xhVI2Mn0"
      }
    },
    {
      "cell_type": "code",
      "source": [
        "from typing import List, Optional, Tuple\n",
        "\n",
        "from torch import nn\n",
        "import math\n",
        "from transformers.models.llama.modeling_llama import rotate_half, repeat_kv\n",
        "import torch\n",
        "import transformers\n",
        "from flash_attn.flash_attn_interface import flash_attn_qkvpacked_func, flash_attn_func\n",
        "from transformers.cache_utils import Cache\n",
        "\n",
        "import math\n",
        "\n",
        "\n",
        "def get_mscale(scale=1):\n",
        "    if scale <= 1:\n",
        "        return 1.0\n",
        "    return 0.1 * math.log(scale) + 1.0\n",
        "\n",
        "\n",
        "class ChunkLlamaRotaryEmbedding(nn.Module):\n",
        "    def __init__(self, dim, max_position_embeddings=4096, base=10000, scaling_factor=1.0, device=None):\n",
        "        super().__init__()\n",
        "\n",
        "        self.max_seq_len = max_position_embeddings\n",
        "        self.dim = dim\n",
        "        self.scaling_factor = scaling_factor\n",
        "        self.max_position_embeddings = max_position_embeddings\n",
        "        self.base = base\n",
        "\n",
        "\n",
        "        self._set_cos_sin_cache(\n",
        "            seq_len=self.max_seq_len,\n",
        "            device=device, dtype=torch.float32\n",
        "        )\n",
        "\n",
        "    def _set_cos_sin_cache(self, seq_len, device, dtype):\n",
        "        scale = seq_len / self.max_position_embeddings\n",
        "        mscale = get_mscale(scale)\n",
        "\n",
        "        inv_freq = 1.0 / (self.base ** (torch.arange(0, self.dim, 2).float().to(device) / self.dim))\n",
        "        self.register_buffer(\"inv_freq\", inv_freq, persistent=False)\n",
        "\n",
        "        chunk_len = chunk_size - local_window\n",
        "        q_t = torch.arange(chunk_len, device=device, dtype=self.inv_freq.dtype) / self.scaling_factor\n",
        "        qc_t = (torch.arange(chunk_len, device=device, dtype=self.inv_freq.dtype) + chunk_len).clamp(\n",
        "            max=chunk_size) / self.scaling_factor\n",
        "        k_t = (torch.arange(seq_len + MAX_NEW_TOKENS, device=device,\n",
        "                            dtype=self.inv_freq.dtype) % chunk_len) / self.scaling_factor\n",
        "\n",
        "        q_freqs = torch.outer(q_t, self.inv_freq)  # seq_len x dim/2\n",
        "        qc_freqs = torch.outer(qc_t, self.inv_freq)\n",
        "        k_freqs = torch.outer(k_t, self.inv_freq)  # seq_len x dim/2\n",
        "\n",
        "        q_emb = torch.cat((q_freqs, q_freqs), dim=-1)  # seq_len x dim\n",
        "        qc_emb = torch.cat((qc_freqs, qc_freqs), dim=-1)\n",
        "        k_emb = torch.cat((k_freqs, k_freqs), dim=-1)  # seq_len x dim\n",
        "        self.register_buffer(\"q_cos_cached\", q_emb.cos().to(dtype) * mscale, persistent=False)\n",
        "        self.register_buffer(\"q_sin_cached\", q_emb.sin().to(dtype) * mscale, persistent=False)\n",
        "        self.register_buffer(\"qc_cos_cached\", qc_emb.cos().to(dtype) * mscale, persistent=False)\n",
        "        self.register_buffer(\"qc_sin_cached\", qc_emb.sin().to(dtype) * mscale, persistent=False)\n",
        "        self.register_buffer(\"k_cos_cached\", k_emb.cos().to(dtype) * mscale, persistent=False)\n",
        "        self.register_buffer(\"k_sin_cached\", k_emb.sin().to(dtype) * mscale, persistent=False)\n",
        "\n",
        "    def forward(self, x, seq_len=None):\n",
        "        # x: [bs, num_attention_heads, seq_len, head_size]\n",
        "        # no token will exceed chunk_size\n",
        "        # chunk1_q,\n",
        "        if seq_len > self.max_seq_len:\n",
        "            self._set_cos_sin_cache(seq_len=seq_len, device=self.inv_freq.device, dtype=torch.float32)\n",
        "            self.max_seq_len = seq_len\n",
        "        return (\n",
        "            self.q_cos_cached[:seq_len].to(dtype=x.dtype),\n",
        "            self.q_sin_cached[:seq_len].to(dtype=x.dtype),\n",
        "            self.qc_cos_cached[:seq_len].to(dtype=x.dtype),\n",
        "            self.qc_sin_cached[:seq_len].to(dtype=x.dtype),\n",
        "            self.k_cos_cached[:seq_len].to(dtype=x.dtype),\n",
        "            self.k_sin_cached[:seq_len].to(dtype=x.dtype),\n",
        "        )\n",
        "\n",
        "\n",
        "def apply_rotary_pos_emb(x, cos, sin, position_ids):\n",
        "    # The first two dimensions of cos and sin are always 1, so we can `squeeze` them.\n",
        "    cos = cos.squeeze(1).squeeze(0)  # [seq_len, dim]\n",
        "    sin = sin.squeeze(1).squeeze(0)  # [seq_len, dim]\n",
        "    cos = cos[position_ids].unsqueeze(1)  # [bs, 1, seq_len, dim]\n",
        "    sin = sin[position_ids].unsqueeze(1)  # [bs, 1, seq_len, dim]\n",
        "    x_emb = (x * cos) + (rotate_half(x) * sin)\n",
        "    return x_emb\n",
        "\n",
        "\n",
        "def merge_attn_outputs(flash_results):\n",
        "    attn_outputs_all = [flash_results[0][0]]\n",
        "    flash_results = flash_results[1:]\n",
        "    for flash_per_chunk in flash_results:\n",
        "        attn_outputs = torch.stack([flash_attn_output[0] for flash_attn_output in flash_per_chunk])\n",
        "        logits = torch.stack([flash_attn_output[1] for flash_attn_output in flash_per_chunk])\n",
        "        max_logits = torch.max(logits, dim=0).values\n",
        "        stable_logits = logits - max_logits.unsqueeze(0)\n",
        "\n",
        "        lse_s = torch.exp(stable_logits).detach()\n",
        "        lse_sum = torch.sum(lse_s, dim=0)\n",
        "        lse_s /= lse_sum\n",
        "        attn_outputs *= lse_s.unsqueeze(-1)\n",
        "        attn_outputs_all.append(attn_outputs.sum(dim=0))\n",
        "    return torch.cat(attn_outputs_all, dim=2)\n",
        "\n",
        "\n",
        "def do_flash_attn(query_states, key_states, value_states, causal=True):\n",
        "    # flash_attention\n",
        "    output, softmax_lse, _ = flash_attn_func(query_states.transpose(1, 2), key_states.transpose(1, 2),\n",
        "                                             value_states.transpose(1, 2), causal=causal, return_attn_probs=True)\n",
        "    return output.transpose(1, 2), softmax_lse\n",
        "\n",
        "\n",
        "def forward(\n",
        "        self,\n",
        "        hidden_states: torch.Tensor,\n",
        "        attention_mask: Optional[torch.LongTensor] = None,\n",
        "        position_ids: Optional[torch.LongTensor] = None,\n",
        "        past_key_value: Optional[Cache] = None,\n",
        "        output_attentions: bool = False,\n",
        "        use_cache: bool = False,\n",
        "        **kwargs,\n",
        ") -> Tuple[torch.Tensor, Optional[torch.Tensor], Optional[Tuple[torch.Tensor]]]:\n",
        "    bsz, q_len, _ = hidden_states.size()\n",
        "    chunk_len = chunk_size - local_window\n",
        "\n",
        "    query_states = self.q_proj(hidden_states)\n",
        "    key_states = self.k_proj(hidden_states)\n",
        "    value_states = self.v_proj(hidden_states)\n",
        "    query_states = query_states.view(bsz, q_len, self.num_heads, self.head_dim).transpose(1, 2)\n",
        "    key_states = key_states.view(bsz, q_len, self.num_key_value_heads, self.head_dim).transpose(1, 2)\n",
        "    value_states = value_states.view(bsz, q_len, self.num_key_value_heads, self.head_dim).transpose(1, 2)\n",
        "\n",
        "    kv_seq_len = key_states.shape[-2]\n",
        "    # during inference\n",
        "    if past_key_value is not None:\n",
        "        kv_seq_len += past_key_value.get_usable_length(kv_seq_len, self.layer_idx)\n",
        "\n",
        "    q_seq_len = query_states.shape[-2]\n",
        "    has_kv_cache = q_seq_len != kv_seq_len\n",
        "    # covert to b x head x len x h\n",
        "    # need to chunk query states\n",
        "    q_cos, q_sin, qc_cos, qc_sin, k_cos, k_sin = self.rotary_emb(value_states, seq_len=kv_seq_len)\n",
        "    key_states = apply_rotary_pos_emb(key_states, k_cos, k_sin, position_ids)\n",
        "    position_ids = position_ids % chunk_len\n",
        "\n",
        "    if past_key_value is not None:\n",
        "        key_states, value_states = past_key_value.update(key_states, value_states, self.layer_idx, cache_kwargs=None)\n",
        "\n",
        "    key_states = repeat_kv(key_states, self.num_key_value_groups)\n",
        "    value_states = repeat_kv(value_states, self.num_key_value_groups)\n",
        "\n",
        "    flash_results = []\n",
        "    if not has_kv_cache:\n",
        "        q_states_intra = apply_rotary_pos_emb(query_states[:, :, :chunk_len, :], q_cos, q_sin,\n",
        "                                             position_ids[:, :chunk_len])\n",
        "        k_states_prev = key_states[:, :, :chunk_len, :]\n",
        "        v_states_prev = value_states[:, :, :chunk_len, :]\n",
        "        flash_results.append(do_flash_attn(q_states_intra, k_states_prev, v_states_prev))\n",
        "        remain_len = kv_seq_len - chunk_len\n",
        "\n",
        "        while remain_len > 0:\n",
        "            flash_per_chunk = []\n",
        "            begin = kv_seq_len - remain_len\n",
        "            curr_chunk_len = min(chunk_len, remain_len)\n",
        "            end = begin + curr_chunk_len\n",
        "\n",
        "            q_states_intra = apply_rotary_pos_emb(query_states[:, :, begin:end, :], q_cos, q_sin,\n",
        "                                                 position_ids[:, begin:end])\n",
        "\n",
        "            k_states_intra = key_states[:, :, begin:end, :]\n",
        "            v_states_intra = value_states[:, :, begin:end, :]\n",
        "            flash_per_chunk.append(do_flash_attn(q_states_intra, k_states_intra, v_states_intra))\n",
        "\n",
        "            q_states_succ = apply_rotary_pos_emb(query_states[:, :, begin:end, :], qc_cos, qc_sin,\n",
        "                                                  position_ids[:, begin:end])\n",
        "            flash_per_chunk.append(do_flash_attn(q_states_succ, k_states_prev, v_states_prev, False))\n",
        "\n",
        "            if begin - (k_states_prev.size(-2)) > 0:\n",
        "                prev_len = k_states_prev.size(-2)\n",
        "                q_states_inter = apply_rotary_pos_emb(query_states[:, :, begin:end, :], qc_cos, qc_sin,\n",
        "                                                    position_ids[:, chunk_len - 1][:, None].repeat(1, curr_chunk_len))\n",
        "                k_states_inter = key_states[:, :, :begin - prev_len, :]\n",
        "                v_states_inter = value_states[:, :, :begin - prev_len, :]\n",
        "                flash_per_chunk.append(do_flash_attn(q_states_inter, k_states_inter, v_states_inter, False))\n",
        "\n",
        "            flash_results.append(flash_per_chunk)\n",
        "            k_states_prev = k_states_intra\n",
        "            v_states_prev = v_states_intra\n",
        "            remain_len = remain_len - chunk_len\n",
        "\n",
        "        attn_output = merge_attn_outputs(flash_results)\n",
        "    else:\n",
        "        chunk_num_curr = (kv_seq_len - 1) // chunk_len\n",
        "        q_states_intra = apply_rotary_pos_emb(query_states, q_cos, q_sin, position_ids)\n",
        "        k_states_intra = key_states[:, :, chunk_len * chunk_num_curr:kv_seq_len, :]\n",
        "        attn_weights = torch.matmul(q_states_intra, k_states_intra.transpose(2, 3)) / math.sqrt(\n",
        "            self.head_dim)\n",
        "        attn_scores = [attn_weights]\n",
        "\n",
        "        if chunk_num_curr >= 1:\n",
        "            q_states_succ = apply_rotary_pos_emb(query_states, qc_cos, qc_sin, position_ids)\n",
        "\n",
        "            k_states_succ = key_states[:, :, chunk_len * (chunk_num_curr - 1):chunk_len * chunk_num_curr, :]\n",
        "            attn_weights = torch.matmul(q_states_succ, k_states_succ.transpose(2, 3)) / math.sqrt(\n",
        "                self.head_dim)\n",
        "            attn_scores = [attn_weights] + attn_scores\n",
        "\n",
        "        if chunk_num_curr >= 2:\n",
        "            q_states_inter = apply_rotary_pos_emb(query_states, qc_cos, qc_sin,\n",
        "                                                torch.tensor([[chunk_len - 1]], device=query_states.device))\n",
        "            k_states_inter = key_states[:, :, :chunk_len * (chunk_num_curr - 1), :]\n",
        "            attn_weights = torch.matmul(q_states_inter, k_states_inter.transpose(2, 3)) / math.sqrt(\n",
        "                self.head_dim)\n",
        "            attn_scores = [attn_weights] + attn_scores\n",
        "\n",
        "        attn_weights = torch.cat(attn_scores, dim=-1)\n",
        "        if attention_mask is not None:\n",
        "            if attention_mask.size() != (bsz, 1, q_len, kv_seq_len):\n",
        "                raise ValueError(\n",
        "                    f\"Attention mask should be of size {(bsz, 1, q_len, kv_seq_len)}, but is {attention_mask.size()}\"\n",
        "                )\n",
        "            attn_weights = attn_weights + attention_mask\n",
        "\n",
        "        # upcast attention to fp32\n",
        "        attn_weights = nn.functional.softmax(attn_weights, dim=-1, dtype=torch.float32).to(query_states.dtype)\n",
        "        attn_output = torch.matmul(attn_weights, value_states)\n",
        "\n",
        "    attn_output = attn_output.transpose(1, 2).contiguous()\n",
        "    attn_output = attn_output.reshape(bsz, q_len, self.hidden_size)\n",
        "    attn_output = self.o_proj(attn_output)\n",
        "\n",
        "    return attn_output, None, past_key_value\n",
        "\n",
        "\n",
        "\n",
        "chunk_size = None\n",
        "local_window = None\n",
        "linear_factor = None\n",
        "MAX_NEW_TOKENS = 512\n",
        "\n",
        "#LLama2 7b is pre-trained on token size of 4096\n",
        "def replace_with_chunkllama(pretraining_length=4096, local_window_size=None):\n",
        "    global chunk_size\n",
        "    global local_window\n",
        "    chunk_size = pretraining_length * 3 // 4\n",
        "    local_window = local_window_size if local_window_size else pretraining_length // 16\n",
        "    transformers.models.llama.modeling_llama.LlamaAttention.forward = forward\n",
        "    transformers.models.llama.modeling_llama.LlamaFlashAttention2.forward = forward\n",
        "    #Replace default LLama2 Rotary embeddings with DCA (reffered to as ChunkLLama)\n",
        "    transformers.models.llama.modeling_llama.LlamaRotaryEmbedding = ChunkLlamaRotaryEmbedding\n",
        "    transformers.models.llama.modeling_llama.LlamaLinearScalingRotaryEmbedding = ChunkLlamaRotaryEmbedding"
      ],
      "metadata": {
        "id": "y-QG2FIAQM-Q"
      },
      "execution_count": null,
      "outputs": []
    },
    {
      "cell_type": "markdown",
      "source": [
        "## Defining LLama2 Model\n",
        "\n",
        "- We use the Hugging Face inference code to download the Llama2 7B model\n",
        "- The maximum context length for our implementation is limited to 16k tokens, in the paper they utilize an A100 GPU with more memory allowing for 32k context size\n",
        "- To use this code yourself you may need to get your own hugging face token after requesting access to LLama2 and upload it as a secret key to colab with the name 'HF_TOKEN'"
      ],
      "metadata": {
        "id": "xRf73gvi2XKz"
      }
    },
    {
      "cell_type": "code",
      "source": [
        "from transformers import LlamaTokenizer, LlamaForCausalLM\n",
        "from google.colab import userdata\n",
        "token=userdata.get('HF_TOKEN') #You must import a token from Hugging Face after getting granted access to Llama2\n",
        "#Import the token value into colab secrets as HF_TOKEN\n",
        "tokenizer = LlamaTokenizer.from_pretrained(\"meta-llama/Llama-2-7b-chat-hf\", model_max_length=16000, truncation_side=\"left\")\n",
        "replace_with_chunkllama(pretraining_length=4096)\n",
        "model = LlamaForCausalLM.from_pretrained(\"meta-llama/Llama-2-7b-chat-hf\", token=token,attn_implementation=\"flash_attention_2\",torch_dtype=torch.bfloat16).to('cuda')"
      ],
      "metadata": {
        "colab": {
          "base_uri": "https://localhost:8080/",
          "height": 66,
          "referenced_widgets": [
            "ca0a388750b64de68a7a17de2ad6ea9e",
            "240c55d3241c41e782a2bd63a5ef69af",
            "f609c3fad68649159d88644f4bb392a1",
            "5dfa32e8bdd443d2b7ff6c2440e3f57f",
            "9707a091a6c741348db14de184c293fb",
            "c187d5b87c1e4dcaad27779b4451e6ba",
            "72166d9dbd3d41cd904b0cbf8c5b62b4",
            "b844649f0a3e467e8a0cc1bfbd66fe78",
            "29a04aa2c25b43438a2ea1ee1f1d4fc9",
            "28e9d4121acd4efda12abdbe357a4868",
            "84b59788f5804ea899ee6228ff777ee1"
          ]
        },
        "id": "PkS9iSB9N8VX",
        "outputId": "a4a6f31d-84bc-4348-e44a-e48c52cbdd80"
      },
      "execution_count": null,
      "outputs": [
        {
          "output_type": "stream",
          "name": "stderr",
          "text": [
            "You are attempting to use Flash Attention 2.0 with a model not initialized on GPU. Make sure to move the model to GPU after initializing it on CPU with `model.to('cuda')`.\n"
          ]
        },
        {
          "output_type": "display_data",
          "data": {
            "text/plain": [
              "Loading checkpoint shards:   0%|          | 0/2 [00:00<?, ?it/s]"
            ],
            "application/vnd.jupyter.widget-view+json": {
              "version_major": 2,
              "version_minor": 0,
              "model_id": "ca0a388750b64de68a7a17de2ad6ea9e"
            }
          },
          "metadata": {}
        }
      ]
    },
    {
      "cell_type": "markdown",
      "source": [
        "## Example of Increased Context on Long PDF\n",
        "(Ensure to upload your own PDF to /content and modify the filepath)"
      ],
      "metadata": {
        "id": "8kV4173p2c_-"
      }
    },
    {
      "cell_type": "code",
      "source": [
        "import fitz\n",
        "\n",
        "def parse_pdf2text(filename):\n",
        "    try:\n",
        "        doc = fitz.open(filename)\n",
        "        text = \"\"\n",
        "        for i, page in enumerate(doc):  # iterate the document pages\n",
        "            text += f\"<Page {i + 1}>: \" + page.get_text()  # get plain text encoded as UTF-8\n",
        "        print(\"read from: \", filename)\n",
        "        sys_prompt =  \"You are given a long paper. Please read the paper and answer the question.\\n\\n\"\n",
        "        return sys_prompt, text\n",
        "\n",
        "    except:\n",
        "        print(\"unable to parse\", filename)\n",
        "        return None\n",
        "#--------------------------REPLACE FILEPATH BELOW WITH YOUR OWN DOCUEMNT TO TEST---------------------------------#\n",
        "\n",
        "sys_prompt, content = parse_pdf2text('/content/AnthonyValenti_PreliminaryReport.pdf') #Replace with the filepath of any file you drop in\n",
        "#I uploaded a paper I am writing, guarantees that LLamma2 has never seen this information during training"
      ],
      "metadata": {
        "colab": {
          "base_uri": "https://localhost:8080/"
        },
        "id": "CNy0aiD7XWj2",
        "outputId": "8cc54221-4981-44cf-c520-6f98cc52ccef"
      },
      "execution_count": null,
      "outputs": [
        {
          "output_type": "stream",
          "name": "stdout",
          "text": [
            "read from:  /content/AnthonyValenti_PreliminaryReport.pdf\n",
            "22162\n"
          ]
        }
      ]
    },
    {
      "cell_type": "code",
      "source": [
        "import warnings\n",
        "warnings.filterwarnings(\"ignore\", category=UserWarning)\n",
        "B_INST, E_INST = \"[INST]\", \"[/INST]\"\n",
        "B_SYS, E_SYS = \"<<SYS>>\\n\", \"\\n<</SYS>>\\n\\n\"\n",
        "for i in range(2):\n",
        "    question = input(\"User: \")\n",
        "    message = B_INST + B_SYS + sys_prompt + E_SYS + content + f\"Question:\\n{question}\" + E_INST + \"Answer:\\n\"\n",
        "\n",
        "    prompt_length = tokenizer(message, return_tensors=\"pt\").input_ids.size()[-1]\n",
        "    inputs = tokenizer(message, truncation=True, return_tensors=\"pt\").to(model.device)\n",
        "    inp_length = inputs.input_ids.size()[-1]\n",
        "    sample = model.generate(**inputs, do_sample=False, max_new_tokens=32)\n",
        "    output = tokenizer.decode(sample[0][inp_length:])\n",
        "    print(\"Chatbot:\", output)\n",
        "    print(f\"---------------End of round{i}------------------\")"
      ],
      "metadata": {
        "colab": {
          "base_uri": "https://localhost:8080/"
        },
        "id": "q39ZTCWgZxB3",
        "outputId": "be7d40df-b42c-43cf-f4bb-6b12ee771fe3"
      },
      "execution_count": null,
      "outputs": [
        {
          "output_type": "stream",
          "name": "stdout",
          "text": [
            "User: What is the author of the papers name ?\n",
            "Chatbot: The author of the papers is Anthony Lino Valenti.</s>\n",
            "---------------End of round0------------------\n",
            "User: What database is used in this paper?\n",
            "Chatbot: The database used in this paper is the \"Hockey Player Tracking Dataset\" (MHPTD) [2]. This dataset contains 25 N\n",
            "---------------End of round1------------------\n"
          ]
        }
      ]
    },
    {
      "cell_type": "code",
      "source": [
        "print('Total input tokens: ',inp_length)"
      ],
      "metadata": {
        "colab": {
          "base_uri": "https://localhost:8080/"
        },
        "id": "JaO3Iwk5m22L",
        "outputId": "815990fb-d97b-4eb2-d5e4-6116e33d8afe"
      },
      "execution_count": null,
      "outputs": [
        {
          "output_type": "stream",
          "name": "stdout",
          "text": [
            "Total input tokens:  6768\n"
          ]
        }
      ]
    },
    {
      "cell_type": "markdown",
      "source": [
        "## Passkey Retrieval Test\n",
        "\n",
        "- This test generates 15k tokens of random text, with a single important line stating a password the model must remember when asked\n",
        "\n",
        "- Achieves 90% accuracy over 10 tests with an average context length of 15909 tokens"
      ],
      "metadata": {
        "id": "1D8LzqdlAfo8"
      }
    },
    {
      "cell_type": "code",
      "source": [
        "import json\n",
        "from typing import Optional, Tuple\n",
        "import torch\n",
        "import random\n",
        "from numpy import random\n",
        "import os\n",
        "import sys\n",
        "\n",
        "def generate_prompt_landmark(n_garbage, seed):\n",
        "    \"\"\"Generates a text file and inserts an passkey at a random position.\"\"\"\n",
        "    rnd_state = random.get_state()\n",
        "    random.seed(seed)\n",
        "    n_garbage_prefix = random.randint(0, n_garbage)\n",
        "    n_garbage_suffix = n_garbage - n_garbage_prefix\n",
        "\n",
        "    #Model Prompt\n",
        "    task_description = \"There is an important info hidden inside a lot of irrelevant text. Find it and memorize them. I will quiz you about the important information there.\"\n",
        "    #Random text\n",
        "    garbage = \"The grass is green. The sky is blue. The sun is yellow. Here we go. There and back again.\"\n",
        "    garbage_inf = \" \".join([garbage] * 500000)\n",
        "    assert len(garbage_inf) >= n_garbage\n",
        "    garbage_prefix = garbage_inf[:n_garbage_prefix]\n",
        "    garbage_suffix = garbage_inf[:n_garbage_suffix]\n",
        "    pass_key = random.randint(1, 50000)\n",
        "    #Stating the passkey and prompting the model to remember it when asked\n",
        "    information_line = f\"The pass key is {pass_key}. Remember it. {pass_key} is the pass key.\"\n",
        "    #Ask for the passkey\n",
        "    final_question = \"What is the pass key? The pass key is\"\n",
        "    lines = [\n",
        "        task_description,\n",
        "        garbage_prefix,\n",
        "        information_line,\n",
        "        garbage_suffix,\n",
        "        final_question,\n",
        "    ]\n",
        "    random.set_state(rnd_state)\n",
        "    return \"\\n\".join(lines), str(pass_key)\n",
        "\n",
        "def passkey_retrieval_test(tokenizer, use_cache=False, n_garbage=60000, seed=666):\n",
        "    prompt, answer = generate_prompt_landmark(n_garbage, seed)\n",
        "    input_ids = tokenizer(prompt, return_tensors=\"pt\").input_ids\n",
        "    input_ids = input_ids.to(model.device)\n",
        "    len_token = input_ids.shape[-1]\n",
        "    print(\"len tokens\", len_token // 1000, \"k\")\n",
        "    answer_ids = tokenizer(answer, return_tensors=\"pt\").input_ids[:, 1:]  # drop BOS\n",
        "    torch.cuda.empty_cache()\n",
        "    generation_output = model.generate(\n",
        "        input_ids=input_ids, max_new_tokens=answer_ids.shape[-1], num_beams=1, use_cache=use_cache\n",
        "    )\n",
        "    torch.cuda.empty_cache()\n",
        "    model_answer = generation_output[0, -answer_ids.shape[-1]:].cpu()\n",
        "    is_correct = (model_answer == answer_ids[0]).all().item()\n",
        "    print(\"answer\", tokenizer.decode(generation_output[0][len_token:]))\n",
        "    print(answer)\n",
        "    if is_correct:\n",
        "        print(\"success\")\n",
        "    else:\n",
        "        print(\"fail\")\n",
        "    print(\"--------\")\n",
        "    return is_correct, len_token\n",
        "\n",
        "all_accuries = {}\n",
        "# This is a rough ratio to control the number of texts and tokens\n",
        "n_garbage = int(3.75 * 16000 // 1024 * 1024)\n",
        "passed_tests = 0\n",
        "total_tokens = 0\n",
        "num_tests = 10\n",
        "for j in range(num_tests):\n",
        "    torch.cuda.empty_cache()\n",
        "    is_correct, len_tokens = passkey_retrieval_test(tokenizer, n_garbage=n_garbage, seed=j)\n",
        "    passed_tests += is_correct\n",
        "    total_tokens += len_tokens\n",
        "avg_tokens = total_tokens // num_tests\n",
        "accuracy = float(passed_tests) / num_tests\n",
        "print(\"accuracy on the token length %d is %f\" % (avg_tokens, accuracy))\n",
        "all_accuries[\"acc\"] = accuracy\n",
        "all_accuries[\"avg_tokens\"] = avg_tokens\n",
        "print(\"acc over tokens\", all_accuries)"
      ],
      "metadata": {
        "colab": {
          "base_uri": "https://localhost:8080/"
        },
        "id": "fc09NQrZAizl",
        "outputId": "e50f81d1-60b5-4234-fb1d-73c0eaafce19"
      },
      "execution_count": null,
      "outputs": [
        {
          "output_type": "stream",
          "name": "stdout",
          "text": [
            "len tokens 15 k\n",
            "answer 43568\n",
            "43568\n",
            "success\n",
            "--------\n",
            "len tokens 15 k\n",
            "answer 12173\n",
            "12173\n",
            "success\n",
            "--------\n",
            "len tokens 15 k\n",
            "answer the number 353\n",
            "35344\n",
            "fail\n",
            "--------\n",
            "len tokens 15 k\n",
            "answer 1689\n",
            "1689\n",
            "success\n",
            "--------\n",
            "len tokens 15 k\n",
            "answer 8367\n",
            "8367\n",
            "success\n",
            "--------\n",
            "len tokens 15 k\n",
            "answer 18639\n",
            "18639\n",
            "success\n",
            "--------\n",
            "len tokens 15 k\n",
            "answer 41188\n",
            "41188\n",
            "success\n",
            "--------\n",
            "len tokens 15 k\n",
            "answer 49690\n",
            "49690\n",
            "success\n",
            "--------\n",
            "len tokens 15 k\n",
            "answer 25941\n",
            "25941\n",
            "success\n",
            "--------\n",
            "len tokens 15 k\n",
            "answer 20829\n",
            "20829\n",
            "success\n",
            "--------\n",
            "accuracy on the token length 15909 is 0.900000\n",
            "acc over tokens {'acc': 0.9, 'avg_tokens': 15909}\n"
          ]
        }
      ]
    },
    {
      "cell_type": "markdown",
      "source": [
        "# **Conclusion and Future Direction**\n",
        "In conclusion, Dual Chunk Attention (DCA) proposed by An et al. is a method for increasing the context-length of LLMs without the need for fine-tuning or any additional pretraining. DCA allows LLMs to handle a context-length of 8x the standard token amount. This increase leads to better performance in real world applications such as text summarization and question answering as the model can process more tokens. Results from our implementation show that DCA can identify a passkey from 16K tokens with 90% accuracy and easily answer questions on long PDF files. One limitation of implementing DCA is that it still requires high computing requirements, as we are implementing it ontop of a local model. However these computing requirements are siginfically less than what is required for fine-tuning. DCA presents a novel way for developers of LLMs to increase their models context-length without additional training, and thus could be implemented for hosted instances of LLMs. For extending the context window of LLama2 using DCA, our implementation uses one A100 NVIDIA GPU, while maximumum performance achived from the authors was reached with 2xA100s on the larger LLama2 70b. Future work could include exploring the compatiblity of the DCA method with different LLMs apart from LLama2, as well as comparing performance with the recently released LLama3."
      ],
      "metadata": {
        "id": "KwmgmRRojZBY"
      }
    },
    {
      "cell_type": "markdown",
      "source": [
        "# **References**\n",
        "[1] : An, C., Huang, F., Zhang, J., Gong, S., Qiu, X., & Zhou, C. (2024). Training-Free Long-Context Scaling of Large Language Models Using Dual Chunk Attention. arXiv preprint arXiv:2402.17463. Retrieved from https://arxiv.org/abs/2402.17463               \n",
        "[2] : Pang, R. Y., Parrish, A., Joshi, N., Nangia, N., Phang, J., Chen, A., Padmakumar, V., Ma, J., Thompson, J., He, H., & Bowman, S. R. (2022). QuALITY: Question Answering with Long Input Texts, Yes! arXiv preprint arXiv:2112.08608v2. Retrieved from https://arxiv.org/abs/2112.08608"
      ],
      "metadata": {
        "id": "fQmcYmv8jczP"
      }
    }
  ]
}