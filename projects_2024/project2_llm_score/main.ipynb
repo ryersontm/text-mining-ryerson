{
  "nbformat": 4,
  "nbformat_minor": 0,
  "metadata": {
    "colab": {
      "provenance": [],
      "gpuType": "T4"
    },
    "kernelspec": {
      "name": "python3",
      "display_name": "Python 3"
    },
    "language_info": {
      "name": "python"
    },
    "accelerator": "GPU"
  },
  "cells": [
    {
      "cell_type": "markdown",
      "source": [
        "# Unveiling the Power of Large Language Models in Text-to-Image Synthesis Evaluation\n",
        "\n",
        "### Group Members:\n",
        "1.   Muhammad Umer (m1umer@torontomu.ca)\n",
        "2.   Kami Wang (kami.wang@torontomu.ca)\n",
        "\n"
      ],
      "metadata": {
        "id": "5KHZbqLMaYIt"
      }
    },
    {
      "cell_type": "markdown",
      "source": [
        "# Introduction:\n",
        "\n",
        "### Problem Description:\n",
        "\n",
        "This paper aims to explore a new framework that offers evaluation scores with multi-granularitybcompositionality by using language models(LLMs) called LLMScore. By merging various features, LLMScore generates comprehensive image descriptions. It uses LLMs to assess aligenment between provide images and text that user provides. This approach provides a powerful method for assessing the accuracy of provide text and images. It provides a more accurate assessment than existing methods.\n",
        "<br><br>\n",
        "\n",
        "### Context of the Problem:\n",
        "\n",
        "Existing methods use automatic evaluation on text-to-image synthesis provide only a single score that shows how well the text matches the whole image, without considering the details of the objects in the image. This limitation results in a poor correlation with human judgements, since human considers the differences of every single item on the image.\n",
        "<br><br>\n",
        "\n",
        "\n",
        "### Limitation About other Approaches:\n",
        "\n",
        "The paper also discusses the limitations and potential biases associated with using LLMs. The challenges such as accurately capturing composite text-to-image alignment, for example couting, color, location, etc. They will affect producing the score and evaluating with various objects.\n",
        "<br><br>\n",
        "\n",
        "\n",
        "### Solution:\n",
        "\n",
        "LLMScore utilizes the incredible text reasoning ad generation ability of Large Language Models(LLMs) to imitate human evaluation processes, offering insights into model performance by assessing compositionality at multi-levels. Then by combining visual and language models with text prompts, LLMScore transforms images into detailed descriptions, enabling the evaluation of alignment with text prompts using LLMs such as GPT-4.\n",
        "\n",
        "<br>"
      ],
      "metadata": {
        "id": "wJdcWwGLaZQH"
      }
    },
    {
      "cell_type": "markdown",
      "source": [
        "# Background\n",
        "\n",
        "\n",
        "| Reference |Explanation |  Dataset/Input |Weakness\n",
        "| --- | --- | --- | --- |\n",
        "| Inception Score [1] | They can recognized metircs for the quality ad diversity of generated images| generated images | poor alignment\n",
        "| CLIPScore [2] | Measureing alignment in text-to-image that rely on pre-trained matching model, most common | generated images and text prompts | not very accurate with generate rationales\n",
        "| LLMs [3] | Evaluate natural language generation tasks, recently common on text-to-image synthesis evaluation. | generated images and text prompts | rely on paid openAI KEY-GPT4"
      ],
      "metadata": {
        "id": "yax5sA8Pabxa"
      }
    },
    {
      "cell_type": "markdown",
      "source": [
        "# Methodology"
      ],
      "metadata": {
        "id": "xZqhlCfVae7i"
      }
    },
    {
      "cell_type": "markdown",
      "source": [
        "Using LLMs and multi-granularity visual descriptor, the goal is to capture alignment between image and text. First we decompose the image into 2 levels:\n",
        "\n",
        "*   **Image-level global description:** Using image captioning model BLIPv2 that caputure the primary context of the image, which helps in the understanding of the location of each object, and interaction among objects.\n",
        "*   **Region-level local descriptions:** Only provide detailed information about each region and transform them into textual descriptions using GRiT [50]."
      ],
      "metadata": {
        "id": "GdmysK1-ahQ5"
      }
    },
    {
      "cell_type": "markdown",
      "source": [
        "![image1](https://drive.google.com/uc?id=1rrYBbFek1ou8l_vAok_J5xlcUb9ig6V4)"
      ],
      "metadata": {
        "id": "sma6hH0kcYJV"
      }
    },
    {
      "cell_type": "markdown",
      "source": [
        "As the text-to-image evaluator, use the resulting descriptions made by LLMs to evaluate the alignment between the images and the text prompts. Next step is generating ratings.\n",
        "\n",
        "*   **Instruction-Following Rating:** Rating the alignment between the generated image and text using LLMs based on given instructions such as overall semantics, error counting etc.\n",
        "*   **Rule-enhanced rating:**  Restrict LLMs to a wider range of ratings, and using atomic tasks and calculate the final evaluation score by `(ratio of the number of matched objects in the text)/2 + (ratio of the number of matched attributes in the text)/2`. The results will be more accurate and close to human judgment."
      ],
      "metadata": {
        "id": "mUhh2yjAajCt"
      }
    },
    {
      "cell_type": "markdown",
      "source": [
        "![image2](https://drive.google.com/uc?id=1AssJc4tgQVx61cHD3rAQmY0TnAyFj-3s)"
      ],
      "metadata": {
        "id": "sWLWKiUUeZfa"
      }
    },
    {
      "cell_type": "markdown",
      "source": [
        "Finally, based on the scores that LLMs generate, it also has to generate rationales into their decision-making process, including \"overall_rationale\" and \"error_counting_rationale\"."
      ],
      "metadata": {
        "id": "iqpwQX56ak0t"
      }
    },
    {
      "cell_type": "markdown",
      "source": [
        "![image3](https://drive.google.com/uc?id=1qH9wyH4ARISz4dMDZ4Au_TLwI97YD1dO)"
      ],
      "metadata": {
        "id": "xisZsLaDejP1"
      }
    },
    {
      "cell_type": "markdown",
      "source": [
        "# Implementation"
      ],
      "metadata": {
        "id": "CQUgxpHbam20"
      }
    },
    {
      "cell_type": "markdown",
      "source": [
        "This is the setup for initial LLMScore repo and relevant model dependency management. These initial steps are as follows:\n",
        "\n",
        "\n",
        "1.   Set OPENAI_KEY for session\n",
        "2.   Clone LLMScore repository\n",
        "3.   Setup detectron\n",
        "4.   Install transformers library\n",
        "5.   Download grit models\n",
        "\n"
      ],
      "metadata": {
        "id": "M_uMrAFgeur9"
      }
    },
    {
      "cell_type": "code",
      "execution_count": null,
      "metadata": {
        "id": "zS1EJZG2VGS-"
      },
      "outputs": [],
      "source": [
        "import os\n",
        "# Set the OPENAI_KEY environment variable (you need to replace with your actual key)\n",
        "os.environ['OPENAI_KEY'] = ''  # Replace YOUR_OPENAI_KEY with your actual OpenAI API key\n",
        "os.environ['OPENAI_API_KEY'] = ''  # Replace YOUR_OPENAI_KEY with your actual OpenAI API key\n",
        "\n",
        "# Clone the LLM repository\n",
        "!git clone https://github.com/YujieLu10/LLMScore.git\n",
        "%cd LLMScore\n",
        "\n",
        "# Initiate and update the Detectron2 submodule\n",
        "!git submodule update --init submodule/detectron2\n",
        "\n",
        "# Install the Hugging Face Transformers library\n",
        "%cd ../../\n",
        "!pip install git+https://github.com/huggingface/transformers\n",
        "%cd /LLMScore\n",
        "\n",
        "# Download the GRiT Model\n",
        "!mkdir -p models\n",
        "%cd models\n",
        "!wget https://datarelease.blob.core.windows.net/grit/models/grit_b_densecap_objectdet.pth\n",
        "%cd .."
      ]
    },
    {
      "cell_type": "code",
      "source": [
        "# Install relevant dependencies\n",
        "%cd /LLMScore\n",
        "!pip install opencv-python mss timm ftfy regex fasttext scikit-learn lvis nltk tqdm matplotlib requests anytree boto3 scikit-image pyyaml inflect icecream openai protobuf einops deepspeed\n",
        "\n",
        "# Install depedencies for detectron2\n",
        "%cd /LLMScore/submodule/detectron2\n",
        "!pip install -e .\n",
        "\n",
        "%cd /LLMScore"
      ],
      "metadata": {
        "id": "ONUDWPEkWCnL"
      },
      "execution_count": null,
      "outputs": []
    },
    {
      "cell_type": "code",
      "source": [
        "# Update the files with updated implemenation for OpenAPI methods\n",
        "!cp /src/visual_descriptor.py /LLMScore/llm_descriptor/visual_descriptor.py\n",
        "!cp /src/evaluation_instruction.py /LLMScore/llm_evaluator/evaluation_instruction.py"
      ],
      "metadata": {
        "id": "EBZQw2bYh8Sj"
      },
      "execution_count": null,
      "outputs": []
    },
    {
      "cell_type": "markdown",
      "source": [
        "After the initial setup, the prompt evaluation is done on various pictures and their rationale and scores are analyzed\n",
        "Build commands for the pictures and prompts:\n",
        "\n",
        "*   All images should be in the folder - /src/samples\n",
        "*   Name of the file should be the input prompt (Example file > a girl with red purse.jpg)\n",
        "    \n",
        "    \n",
        "    "
      ],
      "metadata": {
        "id": "mlqaTOz2DyLu"
      }
    },
    {
      "cell_type": "code",
      "source": [
        "import subprocess\n",
        "\n",
        "def run_command(image, text_prompt):\n",
        "    command = f\"python llm_score.py --image '{image}' --text_prompt '{text_prompt}'\"\n",
        "    print(command)\n",
        "    result = subprocess.run(command, shell=True, text=True, capture_output=True)\n",
        "    if result.stderr:\n",
        "        print(\"Error:\", result.stderr)\n",
        "    return result.stdout\n",
        "\n",
        "def execute_commands(commands):\n",
        "    outputs = []\n",
        "    for image, prompt in commands:\n",
        "        output = run_command(image, prompt)\n",
        "        outputs.append(output)\n",
        "    return outputs\n",
        "\n",
        "def list_files_in_directory(directory):\n",
        "    return [f for f in os.listdir(directory) if os.path.isfile(os.path.join(directory, f))]\n",
        "\n",
        "def create_commands(directory):\n",
        "    files = list_files_in_directory(directory)\n",
        "    commands = []\n",
        "    for file in files:\n",
        "        prompt = os.path.splitext(file)[0]  # Remove file extension for the prompt\n",
        "        image_path = os.path.join(directory, file)  # Full path to the image\n",
        "        commands.append((image_path, prompt.replace('_', ' ')))  # Replace underscores with spaces if needed\n",
        "    return commands\n",
        "\n",
        "image_directory = '/src/samples'\n",
        "\n",
        "commands_to_run = create_commands(image_directory)"
      ],
      "metadata": {
        "id": "wabrITY2nRYG"
      },
      "execution_count": null,
      "outputs": []
    },
    {
      "cell_type": "code",
      "source": [
        "# Execute all commands for input images and their corresponding prompt\n",
        "outputs = execute_commands(commands_to_run)"
      ],
      "metadata": {
        "id": "O1amD3Gqquoi"
      },
      "execution_count": null,
      "outputs": []
    },
    {
      "cell_type": "code",
      "source": [
        "# Parse output to gather scores, errors and corresponding rationales\n",
        "outputs_parsed = []\n",
        "\n",
        "for output in outputs:\n",
        "    lines = output.strip().split('\\n')\n",
        "    if len(lines) >= 4:\n",
        "        parsed = {\n",
        "            'overall_score': lines[-4].strip(),\n",
        "            'overall_score_rationale': lines[-2].strip(),\n",
        "            'error_counts': lines[-3].strip(),\n",
        "            'error_rationale': lines[-1].strip()\n",
        "        }\n",
        "        outputs_parsed.append(parsed)\n",
        "\n",
        "for parsed in outputs_parsed:\n",
        "  print(parsed)"
      ],
      "metadata": {
        "colab": {
          "base_uri": "https://localhost:8080/"
        },
        "id": "vvQvnBUwn_ib",
        "outputId": "9076a55e-d40f-4b84-ab0f-be9f1ae5dbea"
      },
      "execution_count": null,
      "outputs": [
        {
          "output_type": "stream",
          "name": "stdout",
          "text": [
            "{'overall_score': '90', 'overall_score_rationale': 'The image description matches the text prompt very well, garnering a high score of 90 out of 100. It accurately describes a girl with a red purse, but it goes further into more specific detail about her overall attire, the look she portrays, and the environment around her.', 'error_counts': '0', 'error_rationale': \"There are no identifiable composition errors in the image description in comparison to the text prompt. All the elements mentioned in the prompt, particularly the girl and her red purse, are accurately accounted for in the description. Moreover, no item discussed in the prompt is conspicuously absent or incorrectly described in the image's depiction.\"}\n",
            "{'overall_score': '10', 'overall_score_rationale': 'The image description is of low overall quality in terms of matching the text prompt, earning a score of 10 out of 100. This is because the described image is fundamentally different from the text prompt, which speaks about a man with a blue purse, yet the image description refers to a woman with a red purse.', 'error_counts': '5', 'error_rationale': 'The image description contains five composition errors compared to the text prompt. First, there is a mismatch in gender; the prompt speaks of a man while the description is of a woman. Secondly, the purse color in the description is red, not blue as stated in the prompt. Lastly, three errors are incurred because purse is mentioned in the text prompt, but its location, shape, and size are incorrect in the image description.'}\n",
            "{'overall_score': '60', 'overall_score_rationale': 'The overall quality of the image description is average in terms of matching the text prompt. The description was generally descriptive and fits well with a pastoral setting but it more closely aligns to the text prompt of \"a red car and a white sheep.\" However, the car\\'s color in the image description doesn\\'t match the color mentioned in the text prompt, reducing its overall quality rating.', 'error_counts': '5', 'error_rationale': \"There are several composition errors in the image description compared to the text prompt. The first error is the car's color which is white and not red as indicated in the text prompt. The second error is in the number of sheep in the image. In the text prompt, mention is made of a single sheep but the image description depicts three sheep. The third, fourth, and fifth errors are in the incorrect number, location and the overlapping of the third sheep that wasn't mentioned in the text prompt.\"}\n"
          ]
        }
      ]
    },
    {
      "cell_type": "code",
      "source": [
        "# Convert output to dataframe\n",
        "import matplotlib.pyplot as plt\n",
        "import pandas as pd\n",
        "import seaborn as sns\n",
        "\n",
        "df = pd.DataFrame(outputs_parsed)\n",
        "df['overall_score'] = df['overall_score'].astype(int)\n",
        "df['error_counts'] = df['error_counts'].astype(int)"
      ],
      "metadata": {
        "id": "k587vr4ivFoF"
      },
      "execution_count": null,
      "outputs": []
    },
    {
      "cell_type": "code",
      "source": [
        "# Plot scores and error counts for every prompt\n",
        "plt.figure(figsize=(12, 5))\n",
        "\n",
        "# Single color for each type of barplot\n",
        "color_score = sns.color_palette(\"mako_r\", 1)\n",
        "color_error = sns.color_palette(\"cubehelix\", 1)\n",
        "\n",
        "# First subplot: Distribution of Scores\n",
        "plt.subplot(1, 2, 1)  # 1 row, 2 columns, 1st subplot\n",
        "sns.barplot(x=df.index + 1, y=\"overall_score\", data=df, color=color_score[0])\n",
        "plt.title('Overall Score per Prompt')\n",
        "plt.xlabel('Prompt')\n",
        "plt.ylabel('Overall Score')\n",
        "\n",
        "# Second subplot: Number of Errors\n",
        "plt.subplot(1, 2, 2)  # 1 row, 2 columns, 2nd subplot\n",
        "sns.barplot(x=df.index + 1, y=\"error_counts\", data=df, color=color_error[0])\n",
        "plt.title('Number of Errors per Prompt')\n",
        "plt.xlabel('Prompt')\n",
        "plt.ylabel('Error Counts')\n",
        "\n",
        "# Adjust layout to prevent overlap\n",
        "plt.tight_layout()\n",
        "\n",
        "# Show the plot\n",
        "plt.show()"
      ],
      "metadata": {
        "colab": {
          "base_uri": "https://localhost:8080/",
          "height": 507
        },
        "id": "YIiD5cTovLLv",
        "outputId": "45f8d558-3e58-4b5e-880a-cf262bcd26e2"
      },
      "execution_count": null,
      "outputs": [
        {
          "output_type": "display_data",
          "data": {
            "text/plain": [
              "<Figure size 1200x500 with 2 Axes>"
            ],
            "image/png": "[encoded data removed]"
          },
          "metadata": {}
        }
      ]
    },
    {
      "cell_type": "code",
      "source": [
        "# Corelation map b/w scores and errors\n",
        "corr = df[['overall_score', 'error_counts']].corr()\n",
        "plt.figure(figsize=(6, 4))\n",
        "sns.heatmap(corr, annot=True, cmap='coolwarm', fmt=\".2f\")\n",
        "plt.title('Correlation between Score and Number of Errors')\n",
        "plt.show()"
      ],
      "metadata": {
        "colab": {
          "base_uri": "https://localhost:8080/",
          "height": 391
        },
        "id": "5U2Agi3BvYx6",
        "outputId": "582b5196-1c05-4393-fb30-3ada9f58e3b0"
      },
      "execution_count": null,
      "outputs": [
        {
          "output_type": "display_data",
          "data": {
            "text/plain": [
              "<Figure size 600x400 with 2 Axes>"
            ],
            "image/png": "[encoded data removed]"
          },
          "metadata": {}
        }
      ]
    },
    {
      "cell_type": "code",
      "source": [
        "# Average scores for all prompts\n",
        "average_score = df['overall_score'].mean()\n",
        "print(f'Average Score - Overall: {average_score:.2f}')\n",
        "\n",
        "average_score = df['error_counts'].mean()\n",
        "print(f'Average Score - Error Count: {average_score:.2f}')"
      ],
      "metadata": {
        "colab": {
          "base_uri": "https://localhost:8080/"
        },
        "id": "27NVkl_Hwpj-",
        "outputId": "632bbda8-c38b-48cd-833b-f77c3439d416"
      },
      "execution_count": null,
      "outputs": [
        {
          "output_type": "stream",
          "name": "stdout",
          "text": [
            "Average Score - Overall: 53.33\n",
            "Average Score - Error Count: 3.33\n"
          ]
        }
      ]
    },
    {
      "cell_type": "markdown",
      "source": [
        "# Conclusion and Future Direction\n",
        "\n",
        "**Conclusion**\n",
        "\n",
        "*   In conclusion, this paper re-examine the existing model-based text-to-image synthesis to a new novel approach called LLMScore. It can capture multi-granualrity compositionality bewteen images and text prompt that leveraging the capabilities of LLMs GPT-4. It is correlate well with human judgements across several datasets. This framework not only showcases the utility of LLMs for evaluation but also makes recommendations for enhancing the foundational and interpretable nature of text-to-image synthesis.\n",
        "\n",
        "\n",
        "\n",
        "\n",
        "\n",
        "**Limitation & Future Direction**\n",
        "\n",
        "*   The limitation is that LLMScore relies on GPT specially GPT-4 which is not free for the pubilc, it requires a paid openAI KEY for access and take a lengthy processing times. For future directions, we may consider replacing other LLM model with reduced biases and improved response times could be mitigate these limitations."
      ],
      "metadata": {
        "id": "vr2P4OqnaqMQ"
      }
    },
    {
      "cell_type": "markdown",
      "source": [
        "# References:\n",
        "\n",
        "[1]:  Tim Salimans, Ian Goodfellow, Wojciech Zaremba, Vicki Cheung, Alec Radford, and Xi Chen. Improved\n",
        "techniques for training gans. Advances in neural information processing systems, 29, 2016. 3\n",
        "\n",
        "[2]:  Jack Hessel, Ari Holtzman, Maxwell Forbes, Ronan Le Bras, and Yejin Choi. CLIPScore: A reference-free\n",
        "evaluation metric for image captioning. In Proceedings of the 2021 Conference on Empirical Methods in\n",
        "Natural Language Processing, pages 7514–7528, Online and Punta Cana, Dominican Republic, November 2021. Association for Computational Linguistics. 1, 3, 6, 8, 14\n",
        "\n",
        "[3]: OpenAI. Gpt-4 technical report, 2023. 2, 3, 4, 6 Long Ouyang, Jeff Wu, Xu Jiang, Diogo Almeida, Carroll L Wainwright, Pamela Mishkin, Chong Zhang,\n",
        "Sandhini Agarwal, Katarina Slama, Alex Ray, et al. Training language models to follow instructions with human feedback. arXiv preprint arXiv:2203.02155, 2022. 3\n",
        "\n",
        "[4]: Lu, Y., Yang, X., Li, X., Wang, X. E., & Wang, W. Y. (2023, May 18). LLMScore: Unveiling the power of large language models in text-to-image synthesis evaluation. arXiv.org. https://arxiv.org/abs/2305.11116"
      ],
      "metadata": {
        "id": "PUeG7eTbatjF"
      }
    }
  ]
}